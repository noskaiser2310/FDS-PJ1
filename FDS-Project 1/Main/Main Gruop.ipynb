{
 "cells": [
  {
   "cell_type": "code",
   "execution_count": 130,
   "metadata": {},
   "outputs": [],
   "source": [
    "import pandas as pd\n",
    "import numpy as np\n",
    "import matplotlib.pyplot as plt\n",
    "import seaborn as sns\n",
    "import scipy as sp\n",
    "import plotly.express as px"
   ]
  },
  {
   "cell_type": "code",
   "execution_count": 131,
   "metadata": {},
   "outputs": [
    {
     "data": {
      "text/html": [
       "<div>\n",
       "<style scoped>\n",
       "    .dataframe tbody tr th:only-of-type {\n",
       "        vertical-align: middle;\n",
       "    }\n",
       "\n",
       "    .dataframe tbody tr th {\n",
       "        vertical-align: top;\n",
       "    }\n",
       "\n",
       "    .dataframe thead th {\n",
       "        text-align: right;\n",
       "    }\n",
       "</style>\n",
       "<table border=\"1\" class=\"dataframe\">\n",
       "  <thead>\n",
       "    <tr style=\"text-align: right;\">\n",
       "      <th></th>\n",
       "      <th>0</th>\n",
       "      <th>1</th>\n",
       "      <th>2</th>\n",
       "      <th>3</th>\n",
       "      <th>4</th>\n",
       "      <th>5</th>\n",
       "      <th>6</th>\n",
       "      <th>7</th>\n",
       "      <th>8</th>\n",
       "      <th>9</th>\n",
       "    </tr>\n",
       "  </thead>\n",
       "  <tbody>\n",
       "    <tr>\n",
       "      <th>Date</th>\n",
       "      <td>2019-02-04 00:00:00</td>\n",
       "      <td>2019-02-05 00:00:00</td>\n",
       "      <td>2019-02-06 00:00:00</td>\n",
       "      <td>2019-02-07 00:00:00</td>\n",
       "      <td>2019-02-08 00:00:00</td>\n",
       "      <td>2019-02-11 00:00:00</td>\n",
       "      <td>2019-02-12 00:00:00</td>\n",
       "      <td>2019-02-13 00:00:00</td>\n",
       "      <td>2019-02-14 00:00:00</td>\n",
       "      <td>2019-02-15 00:00:00</td>\n",
       "    </tr>\n",
       "    <tr>\n",
       "      <th>Natural_Gas_Price</th>\n",
       "      <td>2.66</td>\n",
       "      <td>2.662</td>\n",
       "      <td>2.662</td>\n",
       "      <td>2.551</td>\n",
       "      <td>2.583</td>\n",
       "      <td>2.642</td>\n",
       "      <td>2.688</td>\n",
       "      <td>2.575</td>\n",
       "      <td>2.573</td>\n",
       "      <td>2.625</td>\n",
       "    </tr>\n",
       "    <tr>\n",
       "      <th>Natural_Gas_Vol.</th>\n",
       "      <td>116490.0</td>\n",
       "      <td>82250.0</td>\n",
       "      <td>98330.0</td>\n",
       "      <td>211790.0</td>\n",
       "      <td>147880.0</td>\n",
       "      <td>202420.0</td>\n",
       "      <td>169230.0</td>\n",
       "      <td>185480.0</td>\n",
       "      <td>101560.0</td>\n",
       "      <td>98410.0</td>\n",
       "    </tr>\n",
       "    <tr>\n",
       "      <th>Crude_oil_Price</th>\n",
       "      <td>54.56</td>\n",
       "      <td>53.66</td>\n",
       "      <td>54.01</td>\n",
       "      <td>52.64</td>\n",
       "      <td>52.72</td>\n",
       "      <td>52.41</td>\n",
       "      <td>53.1</td>\n",
       "      <td>53.9</td>\n",
       "      <td>54.41</td>\n",
       "      <td>55.59</td>\n",
       "    </tr>\n",
       "    <tr>\n",
       "      <th>Crude_oil_Vol.</th>\n",
       "      <td>622470.0</td>\n",
       "      <td>609760.0</td>\n",
       "      <td>606720.0</td>\n",
       "      <td>749010.0</td>\n",
       "      <td>621000.0</td>\n",
       "      <td>750240.0</td>\n",
       "      <td>708310.0</td>\n",
       "      <td>706550.0</td>\n",
       "      <td>623550.0</td>\n",
       "      <td>276910.0</td>\n",
       "    </tr>\n",
       "    <tr>\n",
       "      <th>Copper_Price</th>\n",
       "      <td>2.7975</td>\n",
       "      <td>2.8205</td>\n",
       "      <td>2.84</td>\n",
       "      <td>2.832</td>\n",
       "      <td>2.814</td>\n",
       "      <td>2.793</td>\n",
       "      <td>2.775</td>\n",
       "      <td>2.776</td>\n",
       "      <td>2.7785</td>\n",
       "      <td>2.8025</td>\n",
       "    </tr>\n",
       "    <tr>\n",
       "      <th>Copper_Vol.</th>\n",
       "      <td>490.0</td>\n",
       "      <td>90.0</td>\n",
       "      <td>100.0</td>\n",
       "      <td>320.0</td>\n",
       "      <td>270.0</td>\n",
       "      <td>100.0</td>\n",
       "      <td>50.0</td>\n",
       "      <td>50.0</td>\n",
       "      <td>190.0</td>\n",
       "      <td>150.0</td>\n",
       "    </tr>\n",
       "    <tr>\n",
       "      <th>Bitcoin_Price</th>\n",
       "      <td>3462.8</td>\n",
       "      <td>3468.4</td>\n",
       "      <td>3404.3</td>\n",
       "      <td>3397.7</td>\n",
       "      <td>3661.7</td>\n",
       "      <td>3631.8</td>\n",
       "      <td>3632.0</td>\n",
       "      <td>3611.5</td>\n",
       "      <td>3592.6</td>\n",
       "      <td>3604.7</td>\n",
       "    </tr>\n",
       "    <tr>\n",
       "      <th>Bitcoin_Vol.</th>\n",
       "      <td>503920.0</td>\n",
       "      <td>460950.0</td>\n",
       "      <td>514210.0</td>\n",
       "      <td>471360.0</td>\n",
       "      <td>699230.0</td>\n",
       "      <td>517280.0</td>\n",
       "      <td>545820.0</td>\n",
       "      <td>558020.0</td>\n",
       "      <td>498140.0</td>\n",
       "      <td>516210.0</td>\n",
       "    </tr>\n",
       "    <tr>\n",
       "      <th>Platinum_Price</th>\n",
       "      <td>822.5</td>\n",
       "      <td>821.35</td>\n",
       "      <td>807.1</td>\n",
       "      <td>800.8</td>\n",
       "      <td>802.2</td>\n",
       "      <td>789.75</td>\n",
       "      <td>793.55</td>\n",
       "      <td>788.4</td>\n",
       "      <td>788.75</td>\n",
       "      <td>808.55</td>\n",
       "    </tr>\n",
       "    <tr>\n",
       "      <th>Platinum_Vol.</th>\n",
       "      <td>90.0</td>\n",
       "      <td>90.0</td>\n",
       "      <td>90.0</td>\n",
       "      <td>90.0</td>\n",
       "      <td>90.0</td>\n",
       "      <td>90.0</td>\n",
       "      <td>90.0</td>\n",
       "      <td>90.0</td>\n",
       "      <td>90.0</td>\n",
       "      <td>90.0</td>\n",
       "    </tr>\n",
       "    <tr>\n",
       "      <th>Ethereum_Price</th>\n",
       "      <td>107.9</td>\n",
       "      <td>107.37</td>\n",
       "      <td>104.63</td>\n",
       "      <td>104.55</td>\n",
       "      <td>119.23</td>\n",
       "      <td>121.3</td>\n",
       "      <td>122.64</td>\n",
       "      <td>122.22</td>\n",
       "      <td>120.97</td>\n",
       "      <td>121.73</td>\n",
       "    </tr>\n",
       "    <tr>\n",
       "      <th>Ethereum_Vol.</th>\n",
       "      <td>5020000.0</td>\n",
       "      <td>4670000.0</td>\n",
       "      <td>6150000.0</td>\n",
       "      <td>5050000.0</td>\n",
       "      <td>9190000.0</td>\n",
       "      <td>6130000.0</td>\n",
       "      <td>5740000.0</td>\n",
       "      <td>6170000.0</td>\n",
       "      <td>5810000.0</td>\n",
       "      <td>5690000.0</td>\n",
       "    </tr>\n",
       "    <tr>\n",
       "      <th>S&amp;P_500_Price</th>\n",
       "      <td>2724.87</td>\n",
       "      <td>2737.7</td>\n",
       "      <td>2731.61</td>\n",
       "      <td>2706.05</td>\n",
       "      <td>2707.88</td>\n",
       "      <td>2709.8</td>\n",
       "      <td>2744.73</td>\n",
       "      <td>2753.03</td>\n",
       "      <td>2745.73</td>\n",
       "      <td>2775.6</td>\n",
       "    </tr>\n",
       "    <tr>\n",
       "      <th>Nasdaq_100_Price</th>\n",
       "      <td>6959.96</td>\n",
       "      <td>7023.52</td>\n",
       "      <td>6997.62</td>\n",
       "      <td>6904.98</td>\n",
       "      <td>6913.13</td>\n",
       "      <td>6909.19</td>\n",
       "      <td>7014.67</td>\n",
       "      <td>7015.88</td>\n",
       "      <td>7022.42</td>\n",
       "      <td>7055.18</td>\n",
       "    </tr>\n",
       "    <tr>\n",
       "      <th>Nasdaq_100_Vol.</th>\n",
       "      <td>177350000.0</td>\n",
       "      <td>206730000.0</td>\n",
       "      <td>193600000.0</td>\n",
       "      <td>204460000.0</td>\n",
       "      <td>168040000.0</td>\n",
       "      <td>166330000.0</td>\n",
       "      <td>188910000.0</td>\n",
       "      <td>168570000.0</td>\n",
       "      <td>168000000.0</td>\n",
       "      <td>202530000.0</td>\n",
       "    </tr>\n",
       "    <tr>\n",
       "      <th>Apple_Price</th>\n",
       "      <td>42.81</td>\n",
       "      <td>43.55</td>\n",
       "      <td>43.56</td>\n",
       "      <td>42.73</td>\n",
       "      <td>42.6</td>\n",
       "      <td>42.36</td>\n",
       "      <td>42.72</td>\n",
       "      <td>42.55</td>\n",
       "      <td>42.7</td>\n",
       "      <td>42.6</td>\n",
       "    </tr>\n",
       "    <tr>\n",
       "      <th>Apple_Vol.</th>\n",
       "      <td>125980000.0</td>\n",
       "      <td>144410000.0</td>\n",
       "      <td>112960000.0</td>\n",
       "      <td>126970000.0</td>\n",
       "      <td>95280000.0</td>\n",
       "      <td>83970000.0</td>\n",
       "      <td>89130000.0</td>\n",
       "      <td>89960000.0</td>\n",
       "      <td>87340000.0</td>\n",
       "      <td>98510000.0</td>\n",
       "    </tr>\n",
       "    <tr>\n",
       "      <th>Tesla_Price</th>\n",
       "      <td>20.86</td>\n",
       "      <td>21.42</td>\n",
       "      <td>21.15</td>\n",
       "      <td>20.5</td>\n",
       "      <td>20.39</td>\n",
       "      <td>20.86</td>\n",
       "      <td>20.79</td>\n",
       "      <td>20.54</td>\n",
       "      <td>20.25</td>\n",
       "      <td>20.53</td>\n",
       "    </tr>\n",
       "    <tr>\n",
       "      <th>Tesla_Vol.</th>\n",
       "      <td>110280000.0</td>\n",
       "      <td>101140000.0</td>\n",
       "      <td>75580000.0</td>\n",
       "      <td>97810000.0</td>\n",
       "      <td>87660000.0</td>\n",
       "      <td>106950000.0</td>\n",
       "      <td>82760000.0</td>\n",
       "      <td>77120000.0</td>\n",
       "      <td>78010000.0</td>\n",
       "      <td>58570000.0</td>\n",
       "    </tr>\n",
       "    <tr>\n",
       "      <th>Microsoft_Price</th>\n",
       "      <td>105.74</td>\n",
       "      <td>107.22</td>\n",
       "      <td>106.03</td>\n",
       "      <td>105.27</td>\n",
       "      <td>105.67</td>\n",
       "      <td>105.25</td>\n",
       "      <td>106.89</td>\n",
       "      <td>106.81</td>\n",
       "      <td>106.9</td>\n",
       "      <td>108.22</td>\n",
       "    </tr>\n",
       "    <tr>\n",
       "      <th>Microsoft_Vol.</th>\n",
       "      <td>31320000.0</td>\n",
       "      <td>27330000.0</td>\n",
       "      <td>20610000.0</td>\n",
       "      <td>29760000.0</td>\n",
       "      <td>21460000.0</td>\n",
       "      <td>18910000.0</td>\n",
       "      <td>25060000.0</td>\n",
       "      <td>18390000.0</td>\n",
       "      <td>21780000.0</td>\n",
       "      <td>26610000.0</td>\n",
       "    </tr>\n",
       "    <tr>\n",
       "      <th>Silver_Price</th>\n",
       "      <td>15.886</td>\n",
       "      <td>15.836</td>\n",
       "      <td>15.701</td>\n",
       "      <td>15.713</td>\n",
       "      <td>15.809</td>\n",
       "      <td>15.74</td>\n",
       "      <td>15.69</td>\n",
       "      <td>15.652</td>\n",
       "      <td>15.528</td>\n",
       "      <td>15.743</td>\n",
       "    </tr>\n",
       "    <tr>\n",
       "      <th>Silver_Vol.</th>\n",
       "      <td>60370.0</td>\n",
       "      <td>44220.0</td>\n",
       "      <td>53180.0</td>\n",
       "      <td>58370.0</td>\n",
       "      <td>52060.0</td>\n",
       "      <td>10.0</td>\n",
       "      <td>60670.0</td>\n",
       "      <td>77480.0</td>\n",
       "      <td>80460.0</td>\n",
       "      <td>71500.0</td>\n",
       "    </tr>\n",
       "    <tr>\n",
       "      <th>Google_Price</th>\n",
       "      <td>57.07</td>\n",
       "      <td>57.59</td>\n",
       "      <td>56.14</td>\n",
       "      <td>55.3</td>\n",
       "      <td>55.12</td>\n",
       "      <td>55.11</td>\n",
       "      <td>56.38</td>\n",
       "      <td>56.43</td>\n",
       "      <td>56.46</td>\n",
       "      <td>55.98</td>\n",
       "    </tr>\n",
       "    <tr>\n",
       "      <th>Google_Vol.</th>\n",
       "      <td>78410000.0</td>\n",
       "      <td>82300000.0</td>\n",
       "      <td>48260000.0</td>\n",
       "      <td>38300000.0</td>\n",
       "      <td>21770000.0</td>\n",
       "      <td>18500000.0</td>\n",
       "      <td>35040000.0</td>\n",
       "      <td>28040000.0</td>\n",
       "      <td>21110000.0</td>\n",
       "      <td>27830000.0</td>\n",
       "    </tr>\n",
       "    <tr>\n",
       "      <th>Nvidia_Price</th>\n",
       "      <td>37.3</td>\n",
       "      <td>37.49</td>\n",
       "      <td>38.25</td>\n",
       "      <td>36.85</td>\n",
       "      <td>37.04</td>\n",
       "      <td>36.61</td>\n",
       "      <td>37.79</td>\n",
       "      <td>38.22</td>\n",
       "      <td>38.63</td>\n",
       "      <td>39.34</td>\n",
       "    </tr>\n",
       "    <tr>\n",
       "      <th>Nvidia_Vol.</th>\n",
       "      <td>52860000.0</td>\n",
       "      <td>54240000.0</td>\n",
       "      <td>70250000.0</td>\n",
       "      <td>63710000.0</td>\n",
       "      <td>46160000.0</td>\n",
       "      <td>49520000.0</td>\n",
       "      <td>59110000.0</td>\n",
       "      <td>60540000.0</td>\n",
       "      <td>82730000.0</td>\n",
       "      <td>151670000.0</td>\n",
       "    </tr>\n",
       "    <tr>\n",
       "      <th>Berkshire_Price</th>\n",
       "      <td>312000.0</td>\n",
       "      <td>310700.0</td>\n",
       "      <td>308810.0</td>\n",
       "      <td>302813.0</td>\n",
       "      <td>300771.0</td>\n",
       "      <td>304884.0</td>\n",
       "      <td>309260.0</td>\n",
       "      <td>308320.0</td>\n",
       "      <td>303890.0</td>\n",
       "      <td>308139.0</td>\n",
       "    </tr>\n",
       "    <tr>\n",
       "      <th>Berkshire_Vol.</th>\n",
       "      <td>310.0</td>\n",
       "      <td>360.0</td>\n",
       "      <td>120.0</td>\n",
       "      <td>240.0</td>\n",
       "      <td>240.0</td>\n",
       "      <td>170.0</td>\n",
       "      <td>210.0</td>\n",
       "      <td>430.0</td>\n",
       "      <td>220.0</td>\n",
       "      <td>230.0</td>\n",
       "    </tr>\n",
       "    <tr>\n",
       "      <th>Netflix_Price</th>\n",
       "      <td>351.34</td>\n",
       "      <td>355.81</td>\n",
       "      <td>352.19</td>\n",
       "      <td>344.71</td>\n",
       "      <td>347.57</td>\n",
       "      <td>345.73</td>\n",
       "      <td>359.97</td>\n",
       "      <td>351.77</td>\n",
       "      <td>359.07</td>\n",
       "      <td>356.87</td>\n",
       "    </tr>\n",
       "    <tr>\n",
       "      <th>Netflix_Vol.</th>\n",
       "      <td>9050000.0</td>\n",
       "      <td>9050000.0</td>\n",
       "      <td>6720000.0</td>\n",
       "      <td>7860000.0</td>\n",
       "      <td>7560000.0</td>\n",
       "      <td>5450000.0</td>\n",
       "      <td>10430000.0</td>\n",
       "      <td>10560000.0</td>\n",
       "      <td>9300000.0</td>\n",
       "      <td>9230000.0</td>\n",
       "    </tr>\n",
       "    <tr>\n",
       "      <th>Amazon_Price</th>\n",
       "      <td>81.67</td>\n",
       "      <td>82.94</td>\n",
       "      <td>82.01</td>\n",
       "      <td>80.72</td>\n",
       "      <td>79.41</td>\n",
       "      <td>79.55</td>\n",
       "      <td>81.9</td>\n",
       "      <td>82.0</td>\n",
       "      <td>81.13</td>\n",
       "      <td>80.4</td>\n",
       "    </tr>\n",
       "    <tr>\n",
       "      <th>Amazon_Vol.</th>\n",
       "      <td>98580000.0</td>\n",
       "      <td>89060000.0</td>\n",
       "      <td>78800000.0</td>\n",
       "      <td>92530000.0</td>\n",
       "      <td>113150000.0</td>\n",
       "      <td>66350000.0</td>\n",
       "      <td>97170000.0</td>\n",
       "      <td>71210000.0</td>\n",
       "      <td>82410000.0</td>\n",
       "      <td>86880000.0</td>\n",
       "    </tr>\n",
       "    <tr>\n",
       "      <th>Meta_Price</th>\n",
       "      <td>169.25</td>\n",
       "      <td>171.16</td>\n",
       "      <td>170.49</td>\n",
       "      <td>166.38</td>\n",
       "      <td>167.33</td>\n",
       "      <td>165.79</td>\n",
       "      <td>165.04</td>\n",
       "      <td>164.07</td>\n",
       "      <td>163.95</td>\n",
       "      <td>162.5</td>\n",
       "    </tr>\n",
       "    <tr>\n",
       "      <th>Meta_Vol.</th>\n",
       "      <td>20040000.0</td>\n",
       "      <td>22560000.0</td>\n",
       "      <td>13280000.0</td>\n",
       "      <td>17520000.0</td>\n",
       "      <td>12560000.0</td>\n",
       "      <td>12810000.0</td>\n",
       "      <td>16290000.0</td>\n",
       "      <td>14210000.0</td>\n",
       "      <td>12760000.0</td>\n",
       "      <td>15500000.0</td>\n",
       "    </tr>\n",
       "    <tr>\n",
       "      <th>Gold_Price</th>\n",
       "      <td>1319.3</td>\n",
       "      <td>1319.2</td>\n",
       "      <td>1314.4</td>\n",
       "      <td>1314.2</td>\n",
       "      <td>1318.5</td>\n",
       "      <td>1311.9</td>\n",
       "      <td>1314.0</td>\n",
       "      <td>1315.1</td>\n",
       "      <td>1313.9</td>\n",
       "      <td>1322.1</td>\n",
       "    </tr>\n",
       "    <tr>\n",
       "      <th>Gold_Vol.</th>\n",
       "      <td>159560.0</td>\n",
       "      <td>129010.0</td>\n",
       "      <td>137250.0</td>\n",
       "      <td>166760.0</td>\n",
       "      <td>150610.0</td>\n",
       "      <td>150610.0</td>\n",
       "      <td>146450.0</td>\n",
       "      <td>213960.0</td>\n",
       "      <td>228460.0</td>\n",
       "      <td>200280.0</td>\n",
       "    </tr>\n",
       "  </tbody>\n",
       "</table>\n",
       "</div>"
      ],
      "text/plain": [
       "                                     0                    1  \\\n",
       "Date               2019-02-04 00:00:00  2019-02-05 00:00:00   \n",
       "Natural_Gas_Price                 2.66                2.662   \n",
       "Natural_Gas_Vol.              116490.0              82250.0   \n",
       "Crude_oil_Price                  54.56                53.66   \n",
       "Crude_oil_Vol.                622470.0             609760.0   \n",
       "Copper_Price                    2.7975               2.8205   \n",
       "Copper_Vol.                      490.0                 90.0   \n",
       "Bitcoin_Price                   3462.8               3468.4   \n",
       "Bitcoin_Vol.                  503920.0             460950.0   \n",
       "Platinum_Price                   822.5               821.35   \n",
       "Platinum_Vol.                     90.0                 90.0   \n",
       "Ethereum_Price                   107.9               107.37   \n",
       "Ethereum_Vol.                5020000.0            4670000.0   \n",
       "S&P_500_Price                  2724.87               2737.7   \n",
       "Nasdaq_100_Price               6959.96              7023.52   \n",
       "Nasdaq_100_Vol.            177350000.0          206730000.0   \n",
       "Apple_Price                      42.81                43.55   \n",
       "Apple_Vol.                 125980000.0          144410000.0   \n",
       "Tesla_Price                      20.86                21.42   \n",
       "Tesla_Vol.                 110280000.0          101140000.0   \n",
       "Microsoft_Price                 105.74               107.22   \n",
       "Microsoft_Vol.              31320000.0           27330000.0   \n",
       "Silver_Price                    15.886               15.836   \n",
       "Silver_Vol.                    60370.0              44220.0   \n",
       "Google_Price                     57.07                57.59   \n",
       "Google_Vol.                 78410000.0           82300000.0   \n",
       "Nvidia_Price                      37.3                37.49   \n",
       "Nvidia_Vol.                 52860000.0           54240000.0   \n",
       "Berkshire_Price               312000.0             310700.0   \n",
       "Berkshire_Vol.                   310.0                360.0   \n",
       "Netflix_Price                   351.34               355.81   \n",
       "Netflix_Vol.                 9050000.0            9050000.0   \n",
       "Amazon_Price                     81.67                82.94   \n",
       "Amazon_Vol.                 98580000.0           89060000.0   \n",
       "Meta_Price                      169.25               171.16   \n",
       "Meta_Vol.                   20040000.0           22560000.0   \n",
       "Gold_Price                      1319.3               1319.2   \n",
       "Gold_Vol.                     159560.0             129010.0   \n",
       "\n",
       "                                     2                    3  \\\n",
       "Date               2019-02-06 00:00:00  2019-02-07 00:00:00   \n",
       "Natural_Gas_Price                2.662                2.551   \n",
       "Natural_Gas_Vol.               98330.0             211790.0   \n",
       "Crude_oil_Price                  54.01                52.64   \n",
       "Crude_oil_Vol.                606720.0             749010.0   \n",
       "Copper_Price                      2.84                2.832   \n",
       "Copper_Vol.                      100.0                320.0   \n",
       "Bitcoin_Price                   3404.3               3397.7   \n",
       "Bitcoin_Vol.                  514210.0             471360.0   \n",
       "Platinum_Price                   807.1                800.8   \n",
       "Platinum_Vol.                     90.0                 90.0   \n",
       "Ethereum_Price                  104.63               104.55   \n",
       "Ethereum_Vol.                6150000.0            5050000.0   \n",
       "S&P_500_Price                  2731.61              2706.05   \n",
       "Nasdaq_100_Price               6997.62              6904.98   \n",
       "Nasdaq_100_Vol.            193600000.0          204460000.0   \n",
       "Apple_Price                      43.56                42.73   \n",
       "Apple_Vol.                 112960000.0          126970000.0   \n",
       "Tesla_Price                      21.15                 20.5   \n",
       "Tesla_Vol.                  75580000.0           97810000.0   \n",
       "Microsoft_Price                 106.03               105.27   \n",
       "Microsoft_Vol.              20610000.0           29760000.0   \n",
       "Silver_Price                    15.701               15.713   \n",
       "Silver_Vol.                    53180.0              58370.0   \n",
       "Google_Price                     56.14                 55.3   \n",
       "Google_Vol.                 48260000.0           38300000.0   \n",
       "Nvidia_Price                     38.25                36.85   \n",
       "Nvidia_Vol.                 70250000.0           63710000.0   \n",
       "Berkshire_Price               308810.0             302813.0   \n",
       "Berkshire_Vol.                   120.0                240.0   \n",
       "Netflix_Price                   352.19               344.71   \n",
       "Netflix_Vol.                 6720000.0            7860000.0   \n",
       "Amazon_Price                     82.01                80.72   \n",
       "Amazon_Vol.                 78800000.0           92530000.0   \n",
       "Meta_Price                      170.49               166.38   \n",
       "Meta_Vol.                   13280000.0           17520000.0   \n",
       "Gold_Price                      1314.4               1314.2   \n",
       "Gold_Vol.                     137250.0             166760.0   \n",
       "\n",
       "                                     4                    5  \\\n",
       "Date               2019-02-08 00:00:00  2019-02-11 00:00:00   \n",
       "Natural_Gas_Price                2.583                2.642   \n",
       "Natural_Gas_Vol.              147880.0             202420.0   \n",
       "Crude_oil_Price                  52.72                52.41   \n",
       "Crude_oil_Vol.                621000.0             750240.0   \n",
       "Copper_Price                     2.814                2.793   \n",
       "Copper_Vol.                      270.0                100.0   \n",
       "Bitcoin_Price                   3661.7               3631.8   \n",
       "Bitcoin_Vol.                  699230.0             517280.0   \n",
       "Platinum_Price                   802.2               789.75   \n",
       "Platinum_Vol.                     90.0                 90.0   \n",
       "Ethereum_Price                  119.23                121.3   \n",
       "Ethereum_Vol.                9190000.0            6130000.0   \n",
       "S&P_500_Price                  2707.88               2709.8   \n",
       "Nasdaq_100_Price               6913.13              6909.19   \n",
       "Nasdaq_100_Vol.            168040000.0          166330000.0   \n",
       "Apple_Price                       42.6                42.36   \n",
       "Apple_Vol.                  95280000.0           83970000.0   \n",
       "Tesla_Price                      20.39                20.86   \n",
       "Tesla_Vol.                  87660000.0          106950000.0   \n",
       "Microsoft_Price                 105.67               105.25   \n",
       "Microsoft_Vol.              21460000.0           18910000.0   \n",
       "Silver_Price                    15.809                15.74   \n",
       "Silver_Vol.                    52060.0                 10.0   \n",
       "Google_Price                     55.12                55.11   \n",
       "Google_Vol.                 21770000.0           18500000.0   \n",
       "Nvidia_Price                     37.04                36.61   \n",
       "Nvidia_Vol.                 46160000.0           49520000.0   \n",
       "Berkshire_Price               300771.0             304884.0   \n",
       "Berkshire_Vol.                   240.0                170.0   \n",
       "Netflix_Price                   347.57               345.73   \n",
       "Netflix_Vol.                 7560000.0            5450000.0   \n",
       "Amazon_Price                     79.41                79.55   \n",
       "Amazon_Vol.                113150000.0           66350000.0   \n",
       "Meta_Price                      167.33               165.79   \n",
       "Meta_Vol.                   12560000.0           12810000.0   \n",
       "Gold_Price                      1318.5               1311.9   \n",
       "Gold_Vol.                     150610.0             150610.0   \n",
       "\n",
       "                                     6                    7  \\\n",
       "Date               2019-02-12 00:00:00  2019-02-13 00:00:00   \n",
       "Natural_Gas_Price                2.688                2.575   \n",
       "Natural_Gas_Vol.              169230.0             185480.0   \n",
       "Crude_oil_Price                   53.1                 53.9   \n",
       "Crude_oil_Vol.                708310.0             706550.0   \n",
       "Copper_Price                     2.775                2.776   \n",
       "Copper_Vol.                       50.0                 50.0   \n",
       "Bitcoin_Price                   3632.0               3611.5   \n",
       "Bitcoin_Vol.                  545820.0             558020.0   \n",
       "Platinum_Price                  793.55                788.4   \n",
       "Platinum_Vol.                     90.0                 90.0   \n",
       "Ethereum_Price                  122.64               122.22   \n",
       "Ethereum_Vol.                5740000.0            6170000.0   \n",
       "S&P_500_Price                  2744.73              2753.03   \n",
       "Nasdaq_100_Price               7014.67              7015.88   \n",
       "Nasdaq_100_Vol.            188910000.0          168570000.0   \n",
       "Apple_Price                      42.72                42.55   \n",
       "Apple_Vol.                  89130000.0           89960000.0   \n",
       "Tesla_Price                      20.79                20.54   \n",
       "Tesla_Vol.                  82760000.0           77120000.0   \n",
       "Microsoft_Price                 106.89               106.81   \n",
       "Microsoft_Vol.              25060000.0           18390000.0   \n",
       "Silver_Price                     15.69               15.652   \n",
       "Silver_Vol.                    60670.0              77480.0   \n",
       "Google_Price                     56.38                56.43   \n",
       "Google_Vol.                 35040000.0           28040000.0   \n",
       "Nvidia_Price                     37.79                38.22   \n",
       "Nvidia_Vol.                 59110000.0           60540000.0   \n",
       "Berkshire_Price               309260.0             308320.0   \n",
       "Berkshire_Vol.                   210.0                430.0   \n",
       "Netflix_Price                   359.97               351.77   \n",
       "Netflix_Vol.                10430000.0           10560000.0   \n",
       "Amazon_Price                      81.9                 82.0   \n",
       "Amazon_Vol.                 97170000.0           71210000.0   \n",
       "Meta_Price                      165.04               164.07   \n",
       "Meta_Vol.                   16290000.0           14210000.0   \n",
       "Gold_Price                      1314.0               1315.1   \n",
       "Gold_Vol.                     146450.0             213960.0   \n",
       "\n",
       "                                     8                    9  \n",
       "Date               2019-02-14 00:00:00  2019-02-15 00:00:00  \n",
       "Natural_Gas_Price                2.573                2.625  \n",
       "Natural_Gas_Vol.              101560.0              98410.0  \n",
       "Crude_oil_Price                  54.41                55.59  \n",
       "Crude_oil_Vol.                623550.0             276910.0  \n",
       "Copper_Price                    2.7785               2.8025  \n",
       "Copper_Vol.                      190.0                150.0  \n",
       "Bitcoin_Price                   3592.6               3604.7  \n",
       "Bitcoin_Vol.                  498140.0             516210.0  \n",
       "Platinum_Price                  788.75               808.55  \n",
       "Platinum_Vol.                     90.0                 90.0  \n",
       "Ethereum_Price                  120.97               121.73  \n",
       "Ethereum_Vol.                5810000.0            5690000.0  \n",
       "S&P_500_Price                  2745.73               2775.6  \n",
       "Nasdaq_100_Price               7022.42              7055.18  \n",
       "Nasdaq_100_Vol.            168000000.0          202530000.0  \n",
       "Apple_Price                       42.7                 42.6  \n",
       "Apple_Vol.                  87340000.0           98510000.0  \n",
       "Tesla_Price                      20.25                20.53  \n",
       "Tesla_Vol.                  78010000.0           58570000.0  \n",
       "Microsoft_Price                  106.9               108.22  \n",
       "Microsoft_Vol.              21780000.0           26610000.0  \n",
       "Silver_Price                    15.528               15.743  \n",
       "Silver_Vol.                    80460.0              71500.0  \n",
       "Google_Price                     56.46                55.98  \n",
       "Google_Vol.                 21110000.0           27830000.0  \n",
       "Nvidia_Price                     38.63                39.34  \n",
       "Nvidia_Vol.                 82730000.0          151670000.0  \n",
       "Berkshire_Price               303890.0             308139.0  \n",
       "Berkshire_Vol.                   220.0                230.0  \n",
       "Netflix_Price                   359.07               356.87  \n",
       "Netflix_Vol.                 9300000.0            9230000.0  \n",
       "Amazon_Price                     81.13                 80.4  \n",
       "Amazon_Vol.                 82410000.0           86880000.0  \n",
       "Meta_Price                      163.95                162.5  \n",
       "Meta_Vol.                   12760000.0           15500000.0  \n",
       "Gold_Price                      1313.9               1322.1  \n",
       "Gold_Vol.                     228460.0             200280.0  "
      ]
     },
     "execution_count": 131,
     "metadata": {},
     "output_type": "execute_result"
    }
   ],
   "source": [
    "df = pd.read_csv(\"Stock Market Clean.csv\",index_col=0,parse_dates=['Date'], thousands=',', date_format='%d-%m-%Y')\n",
    "df.head(10).T"
   ]
  },
  {
   "cell_type": "code",
   "execution_count": 132,
   "metadata": {},
   "outputs": [
    {
     "name": "stdout",
     "output_type": "stream",
     "text": [
      "<class 'pandas.core.frame.DataFrame'>\n",
      "Index: 1243 entries, 0 to 1242\n",
      "Data columns (total 38 columns):\n",
      " #   Column             Non-Null Count  Dtype         \n",
      "---  ------             --------------  -----         \n",
      " 0   Date               1243 non-null   datetime64[ns]\n",
      " 1   Natural_Gas_Price  1243 non-null   float64       \n",
      " 2   Natural_Gas_Vol.   1242 non-null   float64       \n",
      " 3   Crude_oil_Price    1243 non-null   float64       \n",
      " 4   Crude_oil_Vol.     1242 non-null   float64       \n",
      " 5   Copper_Price       1243 non-null   float64       \n",
      " 6   Copper_Vol.        1217 non-null   float64       \n",
      " 7   Bitcoin_Price      1243 non-null   float64       \n",
      " 8   Bitcoin_Vol.       1243 non-null   float64       \n",
      " 9   Platinum_Price     1243 non-null   float64       \n",
      " 10  Platinum_Vol.      1243 non-null   float64       \n",
      " 11  Ethereum_Price     1243 non-null   float64       \n",
      " 12  Ethereum_Vol.      1243 non-null   float64       \n",
      " 13  S&P_500_Price      1243 non-null   float64       \n",
      " 14  Nasdaq_100_Price   1243 non-null   float64       \n",
      " 15  Nasdaq_100_Vol.    1243 non-null   float64       \n",
      " 16  Apple_Price        1243 non-null   float64       \n",
      " 17  Apple_Vol.         1243 non-null   float64       \n",
      " 18  Tesla_Price        1243 non-null   float64       \n",
      " 19  Tesla_Vol.         1243 non-null   float64       \n",
      " 20  Microsoft_Price    1243 non-null   float64       \n",
      " 21  Microsoft_Vol.     1243 non-null   float64       \n",
      " 22  Silver_Price       1243 non-null   float64       \n",
      " 23  Silver_Vol.        1242 non-null   float64       \n",
      " 24  Google_Price       1243 non-null   float64       \n",
      " 25  Google_Vol.        1243 non-null   float64       \n",
      " 26  Nvidia_Price       1243 non-null   float64       \n",
      " 27  Nvidia_Vol.        1243 non-null   float64       \n",
      " 28  Berkshire_Price    1243 non-null   float64       \n",
      " 29  Berkshire_Vol.     1243 non-null   float64       \n",
      " 30  Netflix_Price      1243 non-null   float64       \n",
      " 31  Netflix_Vol.       1243 non-null   float64       \n",
      " 32  Amazon_Price       1243 non-null   float64       \n",
      " 33  Amazon_Vol.        1243 non-null   float64       \n",
      " 34  Meta_Price         1243 non-null   float64       \n",
      " 35  Meta_Vol.          1243 non-null   float64       \n",
      " 36  Gold_Price         1243 non-null   float64       \n",
      " 37  Gold_Vol.          1242 non-null   float64       \n",
      "dtypes: datetime64[ns](1), float64(37)\n",
      "memory usage: 378.7 KB\n"
     ]
    }
   ],
   "source": [
    "df.info()"
   ]
  },
  {
   "cell_type": "code",
   "execution_count": 133,
   "metadata": {},
   "outputs": [
    {
     "data": {
      "text/plain": [
       "Index(['Date', 'Natural_Gas_Price', 'Natural_Gas_Vol.', 'Crude_oil_Price',\n",
       "       'Crude_oil_Vol.', 'Copper_Price', 'Copper_Vol.', 'Bitcoin_Price',\n",
       "       'Bitcoin_Vol.', 'Platinum_Price', 'Platinum_Vol.', 'Ethereum_Price',\n",
       "       'Ethereum_Vol.', 'S&P_500_Price', 'Nasdaq_100_Price', 'Nasdaq_100_Vol.',\n",
       "       'Apple_Price', 'Apple_Vol.', 'Tesla_Price', 'Tesla_Vol.',\n",
       "       'Microsoft_Price', 'Microsoft_Vol.', 'Silver_Price', 'Silver_Vol.',\n",
       "       'Google_Price', 'Google_Vol.', 'Nvidia_Price', 'Nvidia_Vol.',\n",
       "       'Berkshire_Price', 'Berkshire_Vol.', 'Netflix_Price', 'Netflix_Vol.',\n",
       "       'Amazon_Price', 'Amazon_Vol.', 'Meta_Price', 'Meta_Vol.', 'Gold_Price',\n",
       "       'Gold_Vol.'],\n",
       "      dtype='object')"
      ]
     },
     "execution_count": 133,
     "metadata": {},
     "output_type": "execute_result"
    }
   ],
   "source": [
    "columns = df.columns\n",
    "columns"
   ]
  },
  {
   "cell_type": "code",
   "execution_count": 134,
   "metadata": {},
   "outputs": [],
   "source": [
    "price = [col for col in columns if 'Price' in col]\n",
    "volume = [col for col in columns if 'Vol.' in col]"
   ]
  },
  {
   "cell_type": "code",
   "execution_count": 135,
   "metadata": {},
   "outputs": [
    {
     "name": "stderr",
     "output_type": "stream",
     "text": [
      "C:\\Users\\Admin\\AppData\\Local\\Temp\\ipykernel_6104\\2260222842.py:2: SettingWithCopyWarning:\n",
      "\n",
      "\n",
      "A value is trying to be set on a copy of a slice from a DataFrame.\n",
      "Try using .loc[row_indexer,col_indexer] = value instead\n",
      "\n",
      "See the caveats in the documentation: https://pandas.pydata.org/pandas-docs/stable/user_guide/indexing.html#returning-a-view-versus-a-copy\n",
      "\n",
      "C:\\Users\\Admin\\AppData\\Local\\Temp\\ipykernel_6104\\2260222842.py:4: SettingWithCopyWarning:\n",
      "\n",
      "\n",
      "A value is trying to be set on a copy of a slice from a DataFrame.\n",
      "Try using .loc[row_indexer,col_indexer] = value instead\n",
      "\n",
      "See the caveats in the documentation: https://pandas.pydata.org/pandas-docs/stable/user_guide/indexing.html#returning-a-view-versus-a-copy\n",
      "\n"
     ]
    },
    {
     "data": {
      "text/html": [
       "<div>\n",
       "<style scoped>\n",
       "    .dataframe tbody tr th:only-of-type {\n",
       "        vertical-align: middle;\n",
       "    }\n",
       "\n",
       "    .dataframe tbody tr th {\n",
       "        vertical-align: top;\n",
       "    }\n",
       "\n",
       "    .dataframe thead th {\n",
       "        text-align: right;\n",
       "    }\n",
       "</style>\n",
       "<table border=\"1\" class=\"dataframe\">\n",
       "  <thead>\n",
       "    <tr style=\"text-align: right;\">\n",
       "      <th></th>\n",
       "      <th>0</th>\n",
       "      <th>1</th>\n",
       "      <th>2</th>\n",
       "      <th>3</th>\n",
       "      <th>4</th>\n",
       "      <th>5</th>\n",
       "      <th>6</th>\n",
       "      <th>7</th>\n",
       "      <th>8</th>\n",
       "      <th>9</th>\n",
       "    </tr>\n",
       "  </thead>\n",
       "  <tbody>\n",
       "    <tr>\n",
       "      <th>Natural_Gas_Vol.</th>\n",
       "      <td>116490.0</td>\n",
       "      <td>82250.0</td>\n",
       "      <td>98330.0</td>\n",
       "      <td>211790.0</td>\n",
       "      <td>147880.0</td>\n",
       "      <td>202420.0</td>\n",
       "      <td>169230.0</td>\n",
       "      <td>185480.0</td>\n",
       "      <td>101560.0</td>\n",
       "      <td>98410.0</td>\n",
       "    </tr>\n",
       "    <tr>\n",
       "      <th>Crude_oil_Vol.</th>\n",
       "      <td>622470.0</td>\n",
       "      <td>609760.0</td>\n",
       "      <td>606720.0</td>\n",
       "      <td>749010.0</td>\n",
       "      <td>621000.0</td>\n",
       "      <td>750240.0</td>\n",
       "      <td>708310.0</td>\n",
       "      <td>706550.0</td>\n",
       "      <td>623550.0</td>\n",
       "      <td>276910.0</td>\n",
       "    </tr>\n",
       "    <tr>\n",
       "      <th>Copper_Vol.</th>\n",
       "      <td>490.0</td>\n",
       "      <td>90.0</td>\n",
       "      <td>100.0</td>\n",
       "      <td>320.0</td>\n",
       "      <td>270.0</td>\n",
       "      <td>100.0</td>\n",
       "      <td>50.0</td>\n",
       "      <td>50.0</td>\n",
       "      <td>190.0</td>\n",
       "      <td>150.0</td>\n",
       "    </tr>\n",
       "    <tr>\n",
       "      <th>Bitcoin_Vol.</th>\n",
       "      <td>503920.0</td>\n",
       "      <td>460950.0</td>\n",
       "      <td>514210.0</td>\n",
       "      <td>471360.0</td>\n",
       "      <td>699230.0</td>\n",
       "      <td>517280.0</td>\n",
       "      <td>545820.0</td>\n",
       "      <td>558020.0</td>\n",
       "      <td>498140.0</td>\n",
       "      <td>516210.0</td>\n",
       "    </tr>\n",
       "    <tr>\n",
       "      <th>Platinum_Vol.</th>\n",
       "      <td>90.0</td>\n",
       "      <td>90.0</td>\n",
       "      <td>90.0</td>\n",
       "      <td>90.0</td>\n",
       "      <td>90.0</td>\n",
       "      <td>90.0</td>\n",
       "      <td>90.0</td>\n",
       "      <td>90.0</td>\n",
       "      <td>90.0</td>\n",
       "      <td>90.0</td>\n",
       "    </tr>\n",
       "    <tr>\n",
       "      <th>Ethereum_Vol.</th>\n",
       "      <td>5020000.0</td>\n",
       "      <td>4670000.0</td>\n",
       "      <td>6150000.0</td>\n",
       "      <td>5050000.0</td>\n",
       "      <td>9190000.0</td>\n",
       "      <td>6130000.0</td>\n",
       "      <td>5740000.0</td>\n",
       "      <td>6170000.0</td>\n",
       "      <td>5810000.0</td>\n",
       "      <td>5690000.0</td>\n",
       "    </tr>\n",
       "    <tr>\n",
       "      <th>Nasdaq_100_Vol.</th>\n",
       "      <td>177350000.0</td>\n",
       "      <td>206730000.0</td>\n",
       "      <td>193600000.0</td>\n",
       "      <td>204460000.0</td>\n",
       "      <td>168040000.0</td>\n",
       "      <td>166330000.0</td>\n",
       "      <td>188910000.0</td>\n",
       "      <td>168570000.0</td>\n",
       "      <td>168000000.0</td>\n",
       "      <td>202530000.0</td>\n",
       "    </tr>\n",
       "    <tr>\n",
       "      <th>Apple_Vol.</th>\n",
       "      <td>125980000.0</td>\n",
       "      <td>144410000.0</td>\n",
       "      <td>112960000.0</td>\n",
       "      <td>126970000.0</td>\n",
       "      <td>95280000.0</td>\n",
       "      <td>83970000.0</td>\n",
       "      <td>89130000.0</td>\n",
       "      <td>89960000.0</td>\n",
       "      <td>87340000.0</td>\n",
       "      <td>98510000.0</td>\n",
       "    </tr>\n",
       "    <tr>\n",
       "      <th>Tesla_Vol.</th>\n",
       "      <td>110280000.0</td>\n",
       "      <td>101140000.0</td>\n",
       "      <td>75580000.0</td>\n",
       "      <td>97810000.0</td>\n",
       "      <td>87660000.0</td>\n",
       "      <td>106950000.0</td>\n",
       "      <td>82760000.0</td>\n",
       "      <td>77120000.0</td>\n",
       "      <td>78010000.0</td>\n",
       "      <td>58570000.0</td>\n",
       "    </tr>\n",
       "    <tr>\n",
       "      <th>Microsoft_Vol.</th>\n",
       "      <td>31320000.0</td>\n",
       "      <td>27330000.0</td>\n",
       "      <td>20610000.0</td>\n",
       "      <td>29760000.0</td>\n",
       "      <td>21460000.0</td>\n",
       "      <td>18910000.0</td>\n",
       "      <td>25060000.0</td>\n",
       "      <td>18390000.0</td>\n",
       "      <td>21780000.0</td>\n",
       "      <td>26610000.0</td>\n",
       "    </tr>\n",
       "    <tr>\n",
       "      <th>Silver_Vol.</th>\n",
       "      <td>60370.0</td>\n",
       "      <td>44220.0</td>\n",
       "      <td>53180.0</td>\n",
       "      <td>58370.0</td>\n",
       "      <td>52060.0</td>\n",
       "      <td>10.0</td>\n",
       "      <td>60670.0</td>\n",
       "      <td>77480.0</td>\n",
       "      <td>80460.0</td>\n",
       "      <td>71500.0</td>\n",
       "    </tr>\n",
       "    <tr>\n",
       "      <th>Google_Vol.</th>\n",
       "      <td>78410000.0</td>\n",
       "      <td>82300000.0</td>\n",
       "      <td>48260000.0</td>\n",
       "      <td>38300000.0</td>\n",
       "      <td>21770000.0</td>\n",
       "      <td>18500000.0</td>\n",
       "      <td>35040000.0</td>\n",
       "      <td>28040000.0</td>\n",
       "      <td>21110000.0</td>\n",
       "      <td>27830000.0</td>\n",
       "    </tr>\n",
       "    <tr>\n",
       "      <th>Nvidia_Vol.</th>\n",
       "      <td>52860000.0</td>\n",
       "      <td>54240000.0</td>\n",
       "      <td>70250000.0</td>\n",
       "      <td>63710000.0</td>\n",
       "      <td>46160000.0</td>\n",
       "      <td>49520000.0</td>\n",
       "      <td>59110000.0</td>\n",
       "      <td>60540000.0</td>\n",
       "      <td>82730000.0</td>\n",
       "      <td>151670000.0</td>\n",
       "    </tr>\n",
       "    <tr>\n",
       "      <th>Berkshire_Vol.</th>\n",
       "      <td>310.0</td>\n",
       "      <td>360.0</td>\n",
       "      <td>120.0</td>\n",
       "      <td>240.0</td>\n",
       "      <td>240.0</td>\n",
       "      <td>170.0</td>\n",
       "      <td>210.0</td>\n",
       "      <td>430.0</td>\n",
       "      <td>220.0</td>\n",
       "      <td>230.0</td>\n",
       "    </tr>\n",
       "    <tr>\n",
       "      <th>Netflix_Vol.</th>\n",
       "      <td>9050000.0</td>\n",
       "      <td>9050000.0</td>\n",
       "      <td>6720000.0</td>\n",
       "      <td>7860000.0</td>\n",
       "      <td>7560000.0</td>\n",
       "      <td>5450000.0</td>\n",
       "      <td>10430000.0</td>\n",
       "      <td>10560000.0</td>\n",
       "      <td>9300000.0</td>\n",
       "      <td>9230000.0</td>\n",
       "    </tr>\n",
       "    <tr>\n",
       "      <th>Amazon_Vol.</th>\n",
       "      <td>98580000.0</td>\n",
       "      <td>89060000.0</td>\n",
       "      <td>78800000.0</td>\n",
       "      <td>92530000.0</td>\n",
       "      <td>113150000.0</td>\n",
       "      <td>66350000.0</td>\n",
       "      <td>97170000.0</td>\n",
       "      <td>71210000.0</td>\n",
       "      <td>82410000.0</td>\n",
       "      <td>86880000.0</td>\n",
       "    </tr>\n",
       "    <tr>\n",
       "      <th>Meta_Vol.</th>\n",
       "      <td>20040000.0</td>\n",
       "      <td>22560000.0</td>\n",
       "      <td>13280000.0</td>\n",
       "      <td>17520000.0</td>\n",
       "      <td>12560000.0</td>\n",
       "      <td>12810000.0</td>\n",
       "      <td>16290000.0</td>\n",
       "      <td>14210000.0</td>\n",
       "      <td>12760000.0</td>\n",
       "      <td>15500000.0</td>\n",
       "    </tr>\n",
       "    <tr>\n",
       "      <th>Gold_Vol.</th>\n",
       "      <td>159560.0</td>\n",
       "      <td>129010.0</td>\n",
       "      <td>137250.0</td>\n",
       "      <td>166760.0</td>\n",
       "      <td>150610.0</td>\n",
       "      <td>150610.0</td>\n",
       "      <td>146450.0</td>\n",
       "      <td>213960.0</td>\n",
       "      <td>228460.0</td>\n",
       "      <td>200280.0</td>\n",
       "    </tr>\n",
       "    <tr>\n",
       "      <th>Date</th>\n",
       "      <td>2019-02-04 00:00:00</td>\n",
       "      <td>2019-02-05 00:00:00</td>\n",
       "      <td>2019-02-06 00:00:00</td>\n",
       "      <td>2019-02-07 00:00:00</td>\n",
       "      <td>2019-02-08 00:00:00</td>\n",
       "      <td>2019-02-11 00:00:00</td>\n",
       "      <td>2019-02-12 00:00:00</td>\n",
       "      <td>2019-02-13 00:00:00</td>\n",
       "      <td>2019-02-14 00:00:00</td>\n",
       "      <td>2019-02-15 00:00:00</td>\n",
       "    </tr>\n",
       "  </tbody>\n",
       "</table>\n",
       "</div>"
      ],
      "text/plain": [
       "                                    0                    1  \\\n",
       "Natural_Gas_Vol.             116490.0              82250.0   \n",
       "Crude_oil_Vol.               622470.0             609760.0   \n",
       "Copper_Vol.                     490.0                 90.0   \n",
       "Bitcoin_Vol.                 503920.0             460950.0   \n",
       "Platinum_Vol.                    90.0                 90.0   \n",
       "Ethereum_Vol.               5020000.0            4670000.0   \n",
       "Nasdaq_100_Vol.           177350000.0          206730000.0   \n",
       "Apple_Vol.                125980000.0          144410000.0   \n",
       "Tesla_Vol.                110280000.0          101140000.0   \n",
       "Microsoft_Vol.             31320000.0           27330000.0   \n",
       "Silver_Vol.                   60370.0              44220.0   \n",
       "Google_Vol.                78410000.0           82300000.0   \n",
       "Nvidia_Vol.                52860000.0           54240000.0   \n",
       "Berkshire_Vol.                  310.0                360.0   \n",
       "Netflix_Vol.                9050000.0            9050000.0   \n",
       "Amazon_Vol.                98580000.0           89060000.0   \n",
       "Meta_Vol.                  20040000.0           22560000.0   \n",
       "Gold_Vol.                    159560.0             129010.0   \n",
       "Date              2019-02-04 00:00:00  2019-02-05 00:00:00   \n",
       "\n",
       "                                    2                    3  \\\n",
       "Natural_Gas_Vol.              98330.0             211790.0   \n",
       "Crude_oil_Vol.               606720.0             749010.0   \n",
       "Copper_Vol.                     100.0                320.0   \n",
       "Bitcoin_Vol.                 514210.0             471360.0   \n",
       "Platinum_Vol.                    90.0                 90.0   \n",
       "Ethereum_Vol.               6150000.0            5050000.0   \n",
       "Nasdaq_100_Vol.           193600000.0          204460000.0   \n",
       "Apple_Vol.                112960000.0          126970000.0   \n",
       "Tesla_Vol.                 75580000.0           97810000.0   \n",
       "Microsoft_Vol.             20610000.0           29760000.0   \n",
       "Silver_Vol.                   53180.0              58370.0   \n",
       "Google_Vol.                48260000.0           38300000.0   \n",
       "Nvidia_Vol.                70250000.0           63710000.0   \n",
       "Berkshire_Vol.                  120.0                240.0   \n",
       "Netflix_Vol.                6720000.0            7860000.0   \n",
       "Amazon_Vol.                78800000.0           92530000.0   \n",
       "Meta_Vol.                  13280000.0           17520000.0   \n",
       "Gold_Vol.                    137250.0             166760.0   \n",
       "Date              2019-02-06 00:00:00  2019-02-07 00:00:00   \n",
       "\n",
       "                                    4                    5  \\\n",
       "Natural_Gas_Vol.             147880.0             202420.0   \n",
       "Crude_oil_Vol.               621000.0             750240.0   \n",
       "Copper_Vol.                     270.0                100.0   \n",
       "Bitcoin_Vol.                 699230.0             517280.0   \n",
       "Platinum_Vol.                    90.0                 90.0   \n",
       "Ethereum_Vol.               9190000.0            6130000.0   \n",
       "Nasdaq_100_Vol.           168040000.0          166330000.0   \n",
       "Apple_Vol.                 95280000.0           83970000.0   \n",
       "Tesla_Vol.                 87660000.0          106950000.0   \n",
       "Microsoft_Vol.             21460000.0           18910000.0   \n",
       "Silver_Vol.                   52060.0                 10.0   \n",
       "Google_Vol.                21770000.0           18500000.0   \n",
       "Nvidia_Vol.                46160000.0           49520000.0   \n",
       "Berkshire_Vol.                  240.0                170.0   \n",
       "Netflix_Vol.                7560000.0            5450000.0   \n",
       "Amazon_Vol.               113150000.0           66350000.0   \n",
       "Meta_Vol.                  12560000.0           12810000.0   \n",
       "Gold_Vol.                    150610.0             150610.0   \n",
       "Date              2019-02-08 00:00:00  2019-02-11 00:00:00   \n",
       "\n",
       "                                    6                    7  \\\n",
       "Natural_Gas_Vol.             169230.0             185480.0   \n",
       "Crude_oil_Vol.               708310.0             706550.0   \n",
       "Copper_Vol.                      50.0                 50.0   \n",
       "Bitcoin_Vol.                 545820.0             558020.0   \n",
       "Platinum_Vol.                    90.0                 90.0   \n",
       "Ethereum_Vol.               5740000.0            6170000.0   \n",
       "Nasdaq_100_Vol.           188910000.0          168570000.0   \n",
       "Apple_Vol.                 89130000.0           89960000.0   \n",
       "Tesla_Vol.                 82760000.0           77120000.0   \n",
       "Microsoft_Vol.             25060000.0           18390000.0   \n",
       "Silver_Vol.                   60670.0              77480.0   \n",
       "Google_Vol.                35040000.0           28040000.0   \n",
       "Nvidia_Vol.                59110000.0           60540000.0   \n",
       "Berkshire_Vol.                  210.0                430.0   \n",
       "Netflix_Vol.               10430000.0           10560000.0   \n",
       "Amazon_Vol.                97170000.0           71210000.0   \n",
       "Meta_Vol.                  16290000.0           14210000.0   \n",
       "Gold_Vol.                    146450.0             213960.0   \n",
       "Date              2019-02-12 00:00:00  2019-02-13 00:00:00   \n",
       "\n",
       "                                    8                    9  \n",
       "Natural_Gas_Vol.             101560.0              98410.0  \n",
       "Crude_oil_Vol.               623550.0             276910.0  \n",
       "Copper_Vol.                     190.0                150.0  \n",
       "Bitcoin_Vol.                 498140.0             516210.0  \n",
       "Platinum_Vol.                    90.0                 90.0  \n",
       "Ethereum_Vol.               5810000.0            5690000.0  \n",
       "Nasdaq_100_Vol.           168000000.0          202530000.0  \n",
       "Apple_Vol.                 87340000.0           98510000.0  \n",
       "Tesla_Vol.                 78010000.0           58570000.0  \n",
       "Microsoft_Vol.             21780000.0           26610000.0  \n",
       "Silver_Vol.                   80460.0              71500.0  \n",
       "Google_Vol.                21110000.0           27830000.0  \n",
       "Nvidia_Vol.                82730000.0          151670000.0  \n",
       "Berkshire_Vol.                  220.0                230.0  \n",
       "Netflix_Vol.                9300000.0            9230000.0  \n",
       "Amazon_Vol.                82410000.0           86880000.0  \n",
       "Meta_Vol.                  12760000.0           15500000.0  \n",
       "Gold_Vol.                    228460.0             200280.0  \n",
       "Date              2019-02-14 00:00:00  2019-02-15 00:00:00  "
      ]
     },
     "execution_count": 135,
     "metadata": {},
     "output_type": "execute_result"
    }
   ],
   "source": [
    "price_df = df[price]\n",
    "price_df['Date'] = df['Date']\n",
    "df_volume = df[volume]\n",
    "df_volume['Date'] = df['Date']\n",
    "df_volume.head(10).T"
   ]
  },
  {
   "cell_type": "code",
   "execution_count": 136,
   "metadata": {},
   "outputs": [
    {
     "data": {
      "text/html": [
       "<div>\n",
       "<style scoped>\n",
       "    .dataframe tbody tr th:only-of-type {\n",
       "        vertical-align: middle;\n",
       "    }\n",
       "\n",
       "    .dataframe tbody tr th {\n",
       "        vertical-align: top;\n",
       "    }\n",
       "\n",
       "    .dataframe thead th {\n",
       "        text-align: right;\n",
       "    }\n",
       "</style>\n",
       "<table border=\"1\" class=\"dataframe\">\n",
       "  <thead>\n",
       "    <tr style=\"text-align: right;\">\n",
       "      <th></th>\n",
       "      <th>0</th>\n",
       "      <th>1</th>\n",
       "      <th>2</th>\n",
       "      <th>3</th>\n",
       "      <th>4</th>\n",
       "      <th>5</th>\n",
       "      <th>6</th>\n",
       "      <th>7</th>\n",
       "      <th>8</th>\n",
       "      <th>9</th>\n",
       "    </tr>\n",
       "  </thead>\n",
       "  <tbody>\n",
       "    <tr>\n",
       "      <th>Natural_Gas_Price</th>\n",
       "      <td>2.66</td>\n",
       "      <td>2.662</td>\n",
       "      <td>2.662</td>\n",
       "      <td>2.551</td>\n",
       "      <td>2.583</td>\n",
       "      <td>2.642</td>\n",
       "      <td>2.688</td>\n",
       "      <td>2.575</td>\n",
       "      <td>2.573</td>\n",
       "      <td>2.625</td>\n",
       "    </tr>\n",
       "    <tr>\n",
       "      <th>Crude_oil_Price</th>\n",
       "      <td>54.56</td>\n",
       "      <td>53.66</td>\n",
       "      <td>54.01</td>\n",
       "      <td>52.64</td>\n",
       "      <td>52.72</td>\n",
       "      <td>52.41</td>\n",
       "      <td>53.1</td>\n",
       "      <td>53.9</td>\n",
       "      <td>54.41</td>\n",
       "      <td>55.59</td>\n",
       "    </tr>\n",
       "    <tr>\n",
       "      <th>Copper_Price</th>\n",
       "      <td>2.7975</td>\n",
       "      <td>2.8205</td>\n",
       "      <td>2.84</td>\n",
       "      <td>2.832</td>\n",
       "      <td>2.814</td>\n",
       "      <td>2.793</td>\n",
       "      <td>2.775</td>\n",
       "      <td>2.776</td>\n",
       "      <td>2.7785</td>\n",
       "      <td>2.8025</td>\n",
       "    </tr>\n",
       "    <tr>\n",
       "      <th>Bitcoin_Price</th>\n",
       "      <td>3462.8</td>\n",
       "      <td>3468.4</td>\n",
       "      <td>3404.3</td>\n",
       "      <td>3397.7</td>\n",
       "      <td>3661.7</td>\n",
       "      <td>3631.8</td>\n",
       "      <td>3632.0</td>\n",
       "      <td>3611.5</td>\n",
       "      <td>3592.6</td>\n",
       "      <td>3604.7</td>\n",
       "    </tr>\n",
       "    <tr>\n",
       "      <th>Platinum_Price</th>\n",
       "      <td>822.5</td>\n",
       "      <td>821.35</td>\n",
       "      <td>807.1</td>\n",
       "      <td>800.8</td>\n",
       "      <td>802.2</td>\n",
       "      <td>789.75</td>\n",
       "      <td>793.55</td>\n",
       "      <td>788.4</td>\n",
       "      <td>788.75</td>\n",
       "      <td>808.55</td>\n",
       "    </tr>\n",
       "    <tr>\n",
       "      <th>Ethereum_Price</th>\n",
       "      <td>107.9</td>\n",
       "      <td>107.37</td>\n",
       "      <td>104.63</td>\n",
       "      <td>104.55</td>\n",
       "      <td>119.23</td>\n",
       "      <td>121.3</td>\n",
       "      <td>122.64</td>\n",
       "      <td>122.22</td>\n",
       "      <td>120.97</td>\n",
       "      <td>121.73</td>\n",
       "    </tr>\n",
       "    <tr>\n",
       "      <th>S&amp;P_500_Price</th>\n",
       "      <td>2724.87</td>\n",
       "      <td>2737.7</td>\n",
       "      <td>2731.61</td>\n",
       "      <td>2706.05</td>\n",
       "      <td>2707.88</td>\n",
       "      <td>2709.8</td>\n",
       "      <td>2744.73</td>\n",
       "      <td>2753.03</td>\n",
       "      <td>2745.73</td>\n",
       "      <td>2775.6</td>\n",
       "    </tr>\n",
       "    <tr>\n",
       "      <th>Nasdaq_100_Price</th>\n",
       "      <td>6959.96</td>\n",
       "      <td>7023.52</td>\n",
       "      <td>6997.62</td>\n",
       "      <td>6904.98</td>\n",
       "      <td>6913.13</td>\n",
       "      <td>6909.19</td>\n",
       "      <td>7014.67</td>\n",
       "      <td>7015.88</td>\n",
       "      <td>7022.42</td>\n",
       "      <td>7055.18</td>\n",
       "    </tr>\n",
       "    <tr>\n",
       "      <th>Apple_Price</th>\n",
       "      <td>42.81</td>\n",
       "      <td>43.55</td>\n",
       "      <td>43.56</td>\n",
       "      <td>42.73</td>\n",
       "      <td>42.6</td>\n",
       "      <td>42.36</td>\n",
       "      <td>42.72</td>\n",
       "      <td>42.55</td>\n",
       "      <td>42.7</td>\n",
       "      <td>42.6</td>\n",
       "    </tr>\n",
       "    <tr>\n",
       "      <th>Tesla_Price</th>\n",
       "      <td>20.86</td>\n",
       "      <td>21.42</td>\n",
       "      <td>21.15</td>\n",
       "      <td>20.5</td>\n",
       "      <td>20.39</td>\n",
       "      <td>20.86</td>\n",
       "      <td>20.79</td>\n",
       "      <td>20.54</td>\n",
       "      <td>20.25</td>\n",
       "      <td>20.53</td>\n",
       "    </tr>\n",
       "    <tr>\n",
       "      <th>Microsoft_Price</th>\n",
       "      <td>105.74</td>\n",
       "      <td>107.22</td>\n",
       "      <td>106.03</td>\n",
       "      <td>105.27</td>\n",
       "      <td>105.67</td>\n",
       "      <td>105.25</td>\n",
       "      <td>106.89</td>\n",
       "      <td>106.81</td>\n",
       "      <td>106.9</td>\n",
       "      <td>108.22</td>\n",
       "    </tr>\n",
       "    <tr>\n",
       "      <th>Silver_Price</th>\n",
       "      <td>15.886</td>\n",
       "      <td>15.836</td>\n",
       "      <td>15.701</td>\n",
       "      <td>15.713</td>\n",
       "      <td>15.809</td>\n",
       "      <td>15.74</td>\n",
       "      <td>15.69</td>\n",
       "      <td>15.652</td>\n",
       "      <td>15.528</td>\n",
       "      <td>15.743</td>\n",
       "    </tr>\n",
       "    <tr>\n",
       "      <th>Google_Price</th>\n",
       "      <td>57.07</td>\n",
       "      <td>57.59</td>\n",
       "      <td>56.14</td>\n",
       "      <td>55.3</td>\n",
       "      <td>55.12</td>\n",
       "      <td>55.11</td>\n",
       "      <td>56.38</td>\n",
       "      <td>56.43</td>\n",
       "      <td>56.46</td>\n",
       "      <td>55.98</td>\n",
       "    </tr>\n",
       "    <tr>\n",
       "      <th>Nvidia_Price</th>\n",
       "      <td>37.3</td>\n",
       "      <td>37.49</td>\n",
       "      <td>38.25</td>\n",
       "      <td>36.85</td>\n",
       "      <td>37.04</td>\n",
       "      <td>36.61</td>\n",
       "      <td>37.79</td>\n",
       "      <td>38.22</td>\n",
       "      <td>38.63</td>\n",
       "      <td>39.34</td>\n",
       "    </tr>\n",
       "    <tr>\n",
       "      <th>Berkshire_Price</th>\n",
       "      <td>312000.0</td>\n",
       "      <td>310700.0</td>\n",
       "      <td>308810.0</td>\n",
       "      <td>302813.0</td>\n",
       "      <td>300771.0</td>\n",
       "      <td>304884.0</td>\n",
       "      <td>309260.0</td>\n",
       "      <td>308320.0</td>\n",
       "      <td>303890.0</td>\n",
       "      <td>308139.0</td>\n",
       "    </tr>\n",
       "    <tr>\n",
       "      <th>Netflix_Price</th>\n",
       "      <td>351.34</td>\n",
       "      <td>355.81</td>\n",
       "      <td>352.19</td>\n",
       "      <td>344.71</td>\n",
       "      <td>347.57</td>\n",
       "      <td>345.73</td>\n",
       "      <td>359.97</td>\n",
       "      <td>351.77</td>\n",
       "      <td>359.07</td>\n",
       "      <td>356.87</td>\n",
       "    </tr>\n",
       "    <tr>\n",
       "      <th>Amazon_Price</th>\n",
       "      <td>81.67</td>\n",
       "      <td>82.94</td>\n",
       "      <td>82.01</td>\n",
       "      <td>80.72</td>\n",
       "      <td>79.41</td>\n",
       "      <td>79.55</td>\n",
       "      <td>81.9</td>\n",
       "      <td>82.0</td>\n",
       "      <td>81.13</td>\n",
       "      <td>80.4</td>\n",
       "    </tr>\n",
       "    <tr>\n",
       "      <th>Meta_Price</th>\n",
       "      <td>169.25</td>\n",
       "      <td>171.16</td>\n",
       "      <td>170.49</td>\n",
       "      <td>166.38</td>\n",
       "      <td>167.33</td>\n",
       "      <td>165.79</td>\n",
       "      <td>165.04</td>\n",
       "      <td>164.07</td>\n",
       "      <td>163.95</td>\n",
       "      <td>162.5</td>\n",
       "    </tr>\n",
       "    <tr>\n",
       "      <th>Gold_Price</th>\n",
       "      <td>1319.3</td>\n",
       "      <td>1319.2</td>\n",
       "      <td>1314.4</td>\n",
       "      <td>1314.2</td>\n",
       "      <td>1318.5</td>\n",
       "      <td>1311.9</td>\n",
       "      <td>1314.0</td>\n",
       "      <td>1315.1</td>\n",
       "      <td>1313.9</td>\n",
       "      <td>1322.1</td>\n",
       "    </tr>\n",
       "    <tr>\n",
       "      <th>Date</th>\n",
       "      <td>04-02-2019</td>\n",
       "      <td>05-02-2019</td>\n",
       "      <td>06-02-2019</td>\n",
       "      <td>07-02-2019</td>\n",
       "      <td>08-02-2019</td>\n",
       "      <td>11-02-2019</td>\n",
       "      <td>12-02-2019</td>\n",
       "      <td>13-02-2019</td>\n",
       "      <td>14-02-2019</td>\n",
       "      <td>15-02-2019</td>\n",
       "    </tr>\n",
       "  </tbody>\n",
       "</table>\n",
       "</div>"
      ],
      "text/plain": [
       "                            0           1           2           3           4  \\\n",
       "Natural_Gas_Price        2.66       2.662       2.662       2.551       2.583   \n",
       "Crude_oil_Price         54.56       53.66       54.01       52.64       52.72   \n",
       "Copper_Price           2.7975      2.8205        2.84       2.832       2.814   \n",
       "Bitcoin_Price          3462.8      3468.4      3404.3      3397.7      3661.7   \n",
       "Platinum_Price          822.5      821.35       807.1       800.8       802.2   \n",
       "Ethereum_Price          107.9      107.37      104.63      104.55      119.23   \n",
       "S&P_500_Price         2724.87      2737.7     2731.61     2706.05     2707.88   \n",
       "Nasdaq_100_Price      6959.96     7023.52     6997.62     6904.98     6913.13   \n",
       "Apple_Price             42.81       43.55       43.56       42.73        42.6   \n",
       "Tesla_Price             20.86       21.42       21.15        20.5       20.39   \n",
       "Microsoft_Price        105.74      107.22      106.03      105.27      105.67   \n",
       "Silver_Price           15.886      15.836      15.701      15.713      15.809   \n",
       "Google_Price            57.07       57.59       56.14        55.3       55.12   \n",
       "Nvidia_Price             37.3       37.49       38.25       36.85       37.04   \n",
       "Berkshire_Price      312000.0    310700.0    308810.0    302813.0    300771.0   \n",
       "Netflix_Price          351.34      355.81      352.19      344.71      347.57   \n",
       "Amazon_Price            81.67       82.94       82.01       80.72       79.41   \n",
       "Meta_Price             169.25      171.16      170.49      166.38      167.33   \n",
       "Gold_Price             1319.3      1319.2      1314.4      1314.2      1318.5   \n",
       "Date               04-02-2019  05-02-2019  06-02-2019  07-02-2019  08-02-2019   \n",
       "\n",
       "                            5           6           7           8           9  \n",
       "Natural_Gas_Price       2.642       2.688       2.575       2.573       2.625  \n",
       "Crude_oil_Price         52.41        53.1        53.9       54.41       55.59  \n",
       "Copper_Price            2.793       2.775       2.776      2.7785      2.8025  \n",
       "Bitcoin_Price          3631.8      3632.0      3611.5      3592.6      3604.7  \n",
       "Platinum_Price         789.75      793.55       788.4      788.75      808.55  \n",
       "Ethereum_Price          121.3      122.64      122.22      120.97      121.73  \n",
       "S&P_500_Price          2709.8     2744.73     2753.03     2745.73      2775.6  \n",
       "Nasdaq_100_Price      6909.19     7014.67     7015.88     7022.42     7055.18  \n",
       "Apple_Price             42.36       42.72       42.55        42.7        42.6  \n",
       "Tesla_Price             20.86       20.79       20.54       20.25       20.53  \n",
       "Microsoft_Price        105.25      106.89      106.81       106.9      108.22  \n",
       "Silver_Price            15.74       15.69      15.652      15.528      15.743  \n",
       "Google_Price            55.11       56.38       56.43       56.46       55.98  \n",
       "Nvidia_Price            36.61       37.79       38.22       38.63       39.34  \n",
       "Berkshire_Price      304884.0    309260.0    308320.0    303890.0    308139.0  \n",
       "Netflix_Price          345.73      359.97      351.77      359.07      356.87  \n",
       "Amazon_Price            79.55        81.9        82.0       81.13        80.4  \n",
       "Meta_Price             165.79      165.04      164.07      163.95       162.5  \n",
       "Gold_Price             1311.9      1314.0      1315.1      1313.9      1322.1  \n",
       "Date               11-02-2019  12-02-2019  13-02-2019  14-02-2019  15-02-2019  "
      ]
     },
     "execution_count": 136,
     "metadata": {},
     "output_type": "execute_result"
    }
   ],
   "source": [
    "df_price.head(10).T"
   ]
  },
  {
   "cell_type": "code",
   "execution_count": 137,
   "metadata": {},
   "outputs": [
    {
     "name": "stdout",
     "output_type": "stream",
     "text": [
      "<class 'pandas.core.frame.DataFrame'>\n",
      "Index: 1243 entries, 0 to 1242\n",
      "Data columns (total 20 columns):\n",
      " #   Column             Non-Null Count  Dtype         \n",
      "---  ------             --------------  -----         \n",
      " 0   Natural_Gas_Price  1243 non-null   float64       \n",
      " 1   Crude_oil_Price    1243 non-null   float64       \n",
      " 2   Copper_Price       1243 non-null   float64       \n",
      " 3   Bitcoin_Price      1243 non-null   float64       \n",
      " 4   Platinum_Price     1243 non-null   float64       \n",
      " 5   Ethereum_Price     1243 non-null   float64       \n",
      " 6   S&P_500_Price      1243 non-null   float64       \n",
      " 7   Nasdaq_100_Price   1243 non-null   float64       \n",
      " 8   Apple_Price        1243 non-null   float64       \n",
      " 9   Tesla_Price        1243 non-null   float64       \n",
      " 10  Microsoft_Price    1243 non-null   float64       \n",
      " 11  Silver_Price       1243 non-null   float64       \n",
      " 12  Google_Price       1243 non-null   float64       \n",
      " 13  Nvidia_Price       1243 non-null   float64       \n",
      " 14  Berkshire_Price    1243 non-null   float64       \n",
      " 15  Netflix_Price      1243 non-null   float64       \n",
      " 16  Amazon_Price       1243 non-null   float64       \n",
      " 17  Meta_Price         1243 non-null   float64       \n",
      " 18  Gold_Price         1243 non-null   float64       \n",
      " 19  Date               1243 non-null   datetime64[ns]\n",
      "dtypes: datetime64[ns](1), float64(19)\n",
      "memory usage: 203.9 KB\n"
     ]
    }
   ],
   "source": [
    "price_df.info()"
   ]
  },
  {
   "cell_type": "code",
   "execution_count": 138,
   "metadata": {},
   "outputs": [],
   "source": [
    "df_check = df.drop(\"Date\",axis = 1)\n"
   ]
  },
  {
   "cell_type": "code",
   "execution_count": 139,
   "metadata": {},
   "outputs": [
    {
     "data": {
      "text/html": [
       "<div>\n",
       "<style scoped>\n",
       "    .dataframe tbody tr th:only-of-type {\n",
       "        vertical-align: middle;\n",
       "    }\n",
       "\n",
       "    .dataframe tbody tr th {\n",
       "        vertical-align: top;\n",
       "    }\n",
       "\n",
       "    .dataframe thead th {\n",
       "        text-align: right;\n",
       "    }\n",
       "</style>\n",
       "<table border=\"1\" class=\"dataframe\">\n",
       "  <thead>\n",
       "    <tr style=\"text-align: right;\">\n",
       "      <th></th>\n",
       "      <th>Natural_Gas_Price</th>\n",
       "      <th>Natural_Gas_Vol.</th>\n",
       "      <th>Crude_oil_Price</th>\n",
       "      <th>Crude_oil_Vol.</th>\n",
       "      <th>Copper_Price</th>\n",
       "      <th>Copper_Vol.</th>\n",
       "      <th>Bitcoin_Price</th>\n",
       "      <th>Bitcoin_Vol.</th>\n",
       "      <th>Platinum_Price</th>\n",
       "      <th>Platinum_Vol.</th>\n",
       "      <th>...</th>\n",
       "      <th>Berkshire_Price</th>\n",
       "      <th>Berkshire_Vol.</th>\n",
       "      <th>Netflix_Price</th>\n",
       "      <th>Netflix_Vol.</th>\n",
       "      <th>Amazon_Price</th>\n",
       "      <th>Amazon_Vol.</th>\n",
       "      <th>Meta_Price</th>\n",
       "      <th>Meta_Vol.</th>\n",
       "      <th>Gold_Price</th>\n",
       "      <th>Gold_Vol.</th>\n",
       "    </tr>\n",
       "  </thead>\n",
       "  <tbody>\n",
       "    <tr>\n",
       "      <th>Natural_Gas_Price</th>\n",
       "      <td>1.000000</td>\n",
       "      <td>-0.209943</td>\n",
       "      <td>0.720125</td>\n",
       "      <td>-0.266620</td>\n",
       "      <td>0.464759</td>\n",
       "      <td>-0.283107</td>\n",
       "      <td>0.288574</td>\n",
       "      <td>0.141344</td>\n",
       "      <td>0.072024</td>\n",
       "      <td>0.114194</td>\n",
       "      <td>...</td>\n",
       "      <td>0.369141</td>\n",
       "      <td>0.040778</td>\n",
       "      <td>-0.333706</td>\n",
       "      <td>0.192001</td>\n",
       "      <td>0.129552</td>\n",
       "      <td>-0.072860</td>\n",
       "      <td>-0.196996</td>\n",
       "      <td>0.266667</td>\n",
       "      <td>0.135257</td>\n",
       "      <td>-0.204888</td>\n",
       "    </tr>\n",
       "    <tr>\n",
       "      <th>Natural_Gas_Vol.</th>\n",
       "      <td>-0.209943</td>\n",
       "      <td>1.000000</td>\n",
       "      <td>-0.237150</td>\n",
       "      <td>0.175865</td>\n",
       "      <td>-0.227796</td>\n",
       "      <td>-0.025861</td>\n",
       "      <td>-0.123094</td>\n",
       "      <td>-0.045818</td>\n",
       "      <td>-0.124160</td>\n",
       "      <td>-0.173675</td>\n",
       "      <td>...</td>\n",
       "      <td>-0.186109</td>\n",
       "      <td>-0.118843</td>\n",
       "      <td>0.058102</td>\n",
       "      <td>-0.039918</td>\n",
       "      <td>-0.058139</td>\n",
       "      <td>0.037844</td>\n",
       "      <td>0.042731</td>\n",
       "      <td>-0.124256</td>\n",
       "      <td>-0.077482</td>\n",
       "      <td>0.189035</td>\n",
       "    </tr>\n",
       "    <tr>\n",
       "      <th>Crude_oil_Price</th>\n",
       "      <td>0.720125</td>\n",
       "      <td>-0.237150</td>\n",
       "      <td>1.000000</td>\n",
       "      <td>-0.294246</td>\n",
       "      <td>0.710722</td>\n",
       "      <td>-0.009591</td>\n",
       "      <td>0.476376</td>\n",
       "      <td>0.258465</td>\n",
       "      <td>0.282867</td>\n",
       "      <td>0.372903</td>\n",
       "      <td>...</td>\n",
       "      <td>0.765621</td>\n",
       "      <td>0.462211</td>\n",
       "      <td>-0.311422</td>\n",
       "      <td>0.116798</td>\n",
       "      <td>0.082149</td>\n",
       "      <td>-0.277936</td>\n",
       "      <td>0.000653</td>\n",
       "      <td>0.232272</td>\n",
       "      <td>0.310117</td>\n",
       "      <td>-0.340659</td>\n",
       "    </tr>\n",
       "    <tr>\n",
       "      <th>Crude_oil_Vol.</th>\n",
       "      <td>-0.266620</td>\n",
       "      <td>0.175865</td>\n",
       "      <td>-0.294246</td>\n",
       "      <td>1.000000</td>\n",
       "      <td>-0.379753</td>\n",
       "      <td>0.026182</td>\n",
       "      <td>-0.255044</td>\n",
       "      <td>-0.017100</td>\n",
       "      <td>-0.217170</td>\n",
       "      <td>-0.326997</td>\n",
       "      <td>...</td>\n",
       "      <td>-0.399175</td>\n",
       "      <td>-0.322472</td>\n",
       "      <td>-0.049878</td>\n",
       "      <td>-0.117640</td>\n",
       "      <td>-0.278116</td>\n",
       "      <td>0.174278</td>\n",
       "      <td>-0.150052</td>\n",
       "      <td>-0.091890</td>\n",
       "      <td>-0.478178</td>\n",
       "      <td>0.445651</td>\n",
       "    </tr>\n",
       "    <tr>\n",
       "      <th>Copper_Price</th>\n",
       "      <td>0.464759</td>\n",
       "      <td>-0.227796</td>\n",
       "      <td>0.710722</td>\n",
       "      <td>-0.379753</td>\n",
       "      <td>1.000000</td>\n",
       "      <td>0.092049</td>\n",
       "      <td>0.853973</td>\n",
       "      <td>0.211113</td>\n",
       "      <td>0.676441</td>\n",
       "      <td>0.404997</td>\n",
       "      <td>...</td>\n",
       "      <td>0.762503</td>\n",
       "      <td>0.408700</td>\n",
       "      <td>0.293715</td>\n",
       "      <td>-0.066240</td>\n",
       "      <td>0.579606</td>\n",
       "      <td>-0.236933</td>\n",
       "      <td>0.457009</td>\n",
       "      <td>0.150678</td>\n",
       "      <td>0.607146</td>\n",
       "      <td>-0.458015</td>\n",
       "    </tr>\n",
       "    <tr>\n",
       "      <th>Copper_Vol.</th>\n",
       "      <td>-0.283107</td>\n",
       "      <td>-0.025861</td>\n",
       "      <td>-0.009591</td>\n",
       "      <td>0.026182</td>\n",
       "      <td>0.092049</td>\n",
       "      <td>1.000000</td>\n",
       "      <td>0.051846</td>\n",
       "      <td>0.013498</td>\n",
       "      <td>0.115219</td>\n",
       "      <td>0.340629</td>\n",
       "      <td>...</td>\n",
       "      <td>0.201695</td>\n",
       "      <td>0.362754</td>\n",
       "      <td>0.072362</td>\n",
       "      <td>-0.012828</td>\n",
       "      <td>-0.090301</td>\n",
       "      <td>0.023889</td>\n",
       "      <td>0.073174</td>\n",
       "      <td>0.007825</td>\n",
       "      <td>0.153904</td>\n",
       "      <td>-0.017432</td>\n",
       "    </tr>\n",
       "    <tr>\n",
       "      <th>Bitcoin_Price</th>\n",
       "      <td>0.288574</td>\n",
       "      <td>-0.123094</td>\n",
       "      <td>0.476376</td>\n",
       "      <td>-0.255044</td>\n",
       "      <td>0.853973</td>\n",
       "      <td>0.051846</td>\n",
       "      <td>1.000000</td>\n",
       "      <td>0.127670</td>\n",
       "      <td>0.660796</td>\n",
       "      <td>0.234079</td>\n",
       "      <td>...</td>\n",
       "      <td>0.617789</td>\n",
       "      <td>0.359944</td>\n",
       "      <td>0.545937</td>\n",
       "      <td>-0.159124</td>\n",
       "      <td>0.716299</td>\n",
       "      <td>-0.245785</td>\n",
       "      <td>0.659982</td>\n",
       "      <td>0.044831</td>\n",
       "      <td>0.538874</td>\n",
       "      <td>-0.355677</td>\n",
       "    </tr>\n",
       "    <tr>\n",
       "      <th>Bitcoin_Vol.</th>\n",
       "      <td>0.141344</td>\n",
       "      <td>-0.045818</td>\n",
       "      <td>0.258465</td>\n",
       "      <td>-0.017100</td>\n",
       "      <td>0.211113</td>\n",
       "      <td>0.013498</td>\n",
       "      <td>0.127670</td>\n",
       "      <td>1.000000</td>\n",
       "      <td>0.099098</td>\n",
       "      <td>-0.013019</td>\n",
       "      <td>...</td>\n",
       "      <td>0.149705</td>\n",
       "      <td>0.002921</td>\n",
       "      <td>-0.084159</td>\n",
       "      <td>0.040178</td>\n",
       "      <td>0.079938</td>\n",
       "      <td>0.042463</td>\n",
       "      <td>-0.072733</td>\n",
       "      <td>0.099446</td>\n",
       "      <td>0.127810</td>\n",
       "      <td>0.024797</td>\n",
       "    </tr>\n",
       "    <tr>\n",
       "      <th>Platinum_Price</th>\n",
       "      <td>0.072024</td>\n",
       "      <td>-0.124160</td>\n",
       "      <td>0.282867</td>\n",
       "      <td>-0.217170</td>\n",
       "      <td>0.676441</td>\n",
       "      <td>0.115219</td>\n",
       "      <td>0.660796</td>\n",
       "      <td>0.099098</td>\n",
       "      <td>1.000000</td>\n",
       "      <td>0.226918</td>\n",
       "      <td>...</td>\n",
       "      <td>0.361384</td>\n",
       "      <td>0.105542</td>\n",
       "      <td>0.358214</td>\n",
       "      <td>-0.157289</td>\n",
       "      <td>0.463763</td>\n",
       "      <td>-0.175379</td>\n",
       "      <td>0.363793</td>\n",
       "      <td>0.010335</td>\n",
       "      <td>0.411105</td>\n",
       "      <td>-0.167999</td>\n",
       "    </tr>\n",
       "    <tr>\n",
       "      <th>Platinum_Vol.</th>\n",
       "      <td>0.114194</td>\n",
       "      <td>-0.173675</td>\n",
       "      <td>0.372903</td>\n",
       "      <td>-0.326997</td>\n",
       "      <td>0.404997</td>\n",
       "      <td>0.340629</td>\n",
       "      <td>0.234079</td>\n",
       "      <td>-0.013019</td>\n",
       "      <td>0.226918</td>\n",
       "      <td>1.000000</td>\n",
       "      <td>...</td>\n",
       "      <td>0.546593</td>\n",
       "      <td>0.504535</td>\n",
       "      <td>-0.053727</td>\n",
       "      <td>0.083620</td>\n",
       "      <td>0.029779</td>\n",
       "      <td>-0.184651</td>\n",
       "      <td>0.028684</td>\n",
       "      <td>0.177093</td>\n",
       "      <td>0.443250</td>\n",
       "      <td>-0.370148</td>\n",
       "    </tr>\n",
       "    <tr>\n",
       "      <th>Ethereum_Price</th>\n",
       "      <td>0.434061</td>\n",
       "      <td>-0.137228</td>\n",
       "      <td>0.602630</td>\n",
       "      <td>-0.278437</td>\n",
       "      <td>0.894603</td>\n",
       "      <td>0.010289</td>\n",
       "      <td>0.918857</td>\n",
       "      <td>0.157011</td>\n",
       "      <td>0.518632</td>\n",
       "      <td>0.272471</td>\n",
       "      <td>...</td>\n",
       "      <td>0.699793</td>\n",
       "      <td>0.380233</td>\n",
       "      <td>0.429243</td>\n",
       "      <td>-0.098555</td>\n",
       "      <td>0.632728</td>\n",
       "      <td>-0.239835</td>\n",
       "      <td>0.566201</td>\n",
       "      <td>0.117065</td>\n",
       "      <td>0.534024</td>\n",
       "      <td>-0.400633</td>\n",
       "    </tr>\n",
       "    <tr>\n",
       "      <th>Ethereum_Vol.</th>\n",
       "      <td>0.039430</td>\n",
       "      <td>-0.033255</td>\n",
       "      <td>0.146216</td>\n",
       "      <td>0.027150</td>\n",
       "      <td>0.108641</td>\n",
       "      <td>0.058027</td>\n",
       "      <td>0.050803</td>\n",
       "      <td>0.939881</td>\n",
       "      <td>0.073158</td>\n",
       "      <td>-0.057843</td>\n",
       "      <td>...</td>\n",
       "      <td>0.057083</td>\n",
       "      <td>-0.031757</td>\n",
       "      <td>-0.045896</td>\n",
       "      <td>-0.012872</td>\n",
       "      <td>0.034377</td>\n",
       "      <td>0.056605</td>\n",
       "      <td>-0.072378</td>\n",
       "      <td>0.066662</td>\n",
       "      <td>0.067808</td>\n",
       "      <td>0.070919</td>\n",
       "    </tr>\n",
       "    <tr>\n",
       "      <th>S&amp;P_500_Price</th>\n",
       "      <td>0.394936</td>\n",
       "      <td>-0.169738</td>\n",
       "      <td>0.665923</td>\n",
       "      <td>-0.430626</td>\n",
       "      <td>0.887495</td>\n",
       "      <td>0.089228</td>\n",
       "      <td>0.836900</td>\n",
       "      <td>0.111162</td>\n",
       "      <td>0.531123</td>\n",
       "      <td>0.444383</td>\n",
       "      <td>...</td>\n",
       "      <td>0.890983</td>\n",
       "      <td>0.640486</td>\n",
       "      <td>0.355452</td>\n",
       "      <td>-0.097484</td>\n",
       "      <td>0.630431</td>\n",
       "      <td>-0.339728</td>\n",
       "      <td>0.612686</td>\n",
       "      <td>0.113821</td>\n",
       "      <td>0.742476</td>\n",
       "      <td>-0.521093</td>\n",
       "    </tr>\n",
       "    <tr>\n",
       "      <th>Nasdaq_100_Price</th>\n",
       "      <td>0.287696</td>\n",
       "      <td>-0.138037</td>\n",
       "      <td>0.515098</td>\n",
       "      <td>-0.430225</td>\n",
       "      <td>0.826520</td>\n",
       "      <td>0.094848</td>\n",
       "      <td>0.840702</td>\n",
       "      <td>0.079861</td>\n",
       "      <td>0.499241</td>\n",
       "      <td>0.401470</td>\n",
       "      <td>...</td>\n",
       "      <td>0.811769</td>\n",
       "      <td>0.621819</td>\n",
       "      <td>0.501888</td>\n",
       "      <td>-0.137021</td>\n",
       "      <td>0.754037</td>\n",
       "      <td>-0.293410</td>\n",
       "      <td>0.728045</td>\n",
       "      <td>0.077701</td>\n",
       "      <td>0.806165</td>\n",
       "      <td>-0.510180</td>\n",
       "    </tr>\n",
       "    <tr>\n",
       "      <th>Nasdaq_100_Vol.</th>\n",
       "      <td>0.127730</td>\n",
       "      <td>-0.088959</td>\n",
       "      <td>0.181427</td>\n",
       "      <td>-0.151545</td>\n",
       "      <td>0.143468</td>\n",
       "      <td>0.194779</td>\n",
       "      <td>0.052846</td>\n",
       "      <td>0.084438</td>\n",
       "      <td>-0.059137</td>\n",
       "      <td>0.288978</td>\n",
       "      <td>...</td>\n",
       "      <td>0.279845</td>\n",
       "      <td>0.338308</td>\n",
       "      <td>-0.157562</td>\n",
       "      <td>0.195555</td>\n",
       "      <td>-0.064012</td>\n",
       "      <td>0.345191</td>\n",
       "      <td>-0.120354</td>\n",
       "      <td>0.427395</td>\n",
       "      <td>0.271243</td>\n",
       "      <td>-0.124232</td>\n",
       "    </tr>\n",
       "    <tr>\n",
       "      <th>Apple_Price</th>\n",
       "      <td>0.400177</td>\n",
       "      <td>-0.182328</td>\n",
       "      <td>0.630665</td>\n",
       "      <td>-0.497240</td>\n",
       "      <td>0.784368</td>\n",
       "      <td>0.128542</td>\n",
       "      <td>0.693188</td>\n",
       "      <td>0.105168</td>\n",
       "      <td>0.402111</td>\n",
       "      <td>0.532572</td>\n",
       "      <td>...</td>\n",
       "      <td>0.896975</td>\n",
       "      <td>0.729365</td>\n",
       "      <td>0.217030</td>\n",
       "      <td>-0.028950</td>\n",
       "      <td>0.552444</td>\n",
       "      <td>-0.280129</td>\n",
       "      <td>0.478005</td>\n",
       "      <td>0.202711</td>\n",
       "      <td>0.848809</td>\n",
       "      <td>-0.565810</td>\n",
       "    </tr>\n",
       "    <tr>\n",
       "      <th>Apple_Vol.</th>\n",
       "      <td>-0.232286</td>\n",
       "      <td>0.179240</td>\n",
       "      <td>-0.508177</td>\n",
       "      <td>0.295893</td>\n",
       "      <td>-0.462743</td>\n",
       "      <td>-0.016968</td>\n",
       "      <td>-0.368134</td>\n",
       "      <td>-0.003180</td>\n",
       "      <td>-0.288323</td>\n",
       "      <td>-0.344492</td>\n",
       "      <td>...</td>\n",
       "      <td>-0.578918</td>\n",
       "      <td>-0.453390</td>\n",
       "      <td>0.011647</td>\n",
       "      <td>0.076508</td>\n",
       "      <td>-0.100603</td>\n",
       "      <td>0.609152</td>\n",
       "      <td>-0.205936</td>\n",
       "      <td>0.106530</td>\n",
       "      <td>-0.264835</td>\n",
       "      <td>0.469947</td>\n",
       "    </tr>\n",
       "    <tr>\n",
       "      <th>Tesla_Price</th>\n",
       "      <td>0.556997</td>\n",
       "      <td>-0.194600</td>\n",
       "      <td>0.647146</td>\n",
       "      <td>-0.417809</td>\n",
       "      <td>0.851637</td>\n",
       "      <td>-0.018304</td>\n",
       "      <td>0.817893</td>\n",
       "      <td>0.153548</td>\n",
       "      <td>0.469790</td>\n",
       "      <td>0.396947</td>\n",
       "      <td>...</td>\n",
       "      <td>0.736101</td>\n",
       "      <td>0.450463</td>\n",
       "      <td>0.317826</td>\n",
       "      <td>-0.025876</td>\n",
       "      <td>0.688165</td>\n",
       "      <td>-0.224009</td>\n",
       "      <td>0.473493</td>\n",
       "      <td>0.201261</td>\n",
       "      <td>0.689413</td>\n",
       "      <td>-0.458341</td>\n",
       "    </tr>\n",
       "    <tr>\n",
       "      <th>Tesla_Vol.</th>\n",
       "      <td>-0.415713</td>\n",
       "      <td>0.158409</td>\n",
       "      <td>-0.459345</td>\n",
       "      <td>0.213576</td>\n",
       "      <td>-0.474729</td>\n",
       "      <td>0.153805</td>\n",
       "      <td>-0.439503</td>\n",
       "      <td>-0.094356</td>\n",
       "      <td>-0.254743</td>\n",
       "      <td>-0.130777</td>\n",
       "      <td>...</td>\n",
       "      <td>-0.359327</td>\n",
       "      <td>-0.146769</td>\n",
       "      <td>-0.059122</td>\n",
       "      <td>0.035366</td>\n",
       "      <td>-0.283697</td>\n",
       "      <td>0.362265</td>\n",
       "      <td>-0.215377</td>\n",
       "      <td>-0.013725</td>\n",
       "      <td>-0.163094</td>\n",
       "      <td>0.222755</td>\n",
       "    </tr>\n",
       "    <tr>\n",
       "      <th>Microsoft_Price</th>\n",
       "      <td>0.311807</td>\n",
       "      <td>-0.140793</td>\n",
       "      <td>0.575067</td>\n",
       "      <td>-0.440390</td>\n",
       "      <td>0.762634</td>\n",
       "      <td>0.131168</td>\n",
       "      <td>0.752466</td>\n",
       "      <td>0.086007</td>\n",
       "      <td>0.368992</td>\n",
       "      <td>0.453592</td>\n",
       "      <td>...</td>\n",
       "      <td>0.886227</td>\n",
       "      <td>0.752489</td>\n",
       "      <td>0.338087</td>\n",
       "      <td>-0.083579</td>\n",
       "      <td>0.599515</td>\n",
       "      <td>-0.297595</td>\n",
       "      <td>0.615400</td>\n",
       "      <td>0.124084</td>\n",
       "      <td>0.826407</td>\n",
       "      <td>-0.546814</td>\n",
       "    </tr>\n",
       "    <tr>\n",
       "      <th>Microsoft_Vol.</th>\n",
       "      <td>-0.091324</td>\n",
       "      <td>0.049832</td>\n",
       "      <td>-0.210639</td>\n",
       "      <td>0.126507</td>\n",
       "      <td>-0.140506</td>\n",
       "      <td>0.141624</td>\n",
       "      <td>-0.119050</td>\n",
       "      <td>0.058522</td>\n",
       "      <td>-0.156407</td>\n",
       "      <td>-0.019681</td>\n",
       "      <td>...</td>\n",
       "      <td>-0.165806</td>\n",
       "      <td>-0.090151</td>\n",
       "      <td>-0.048859</td>\n",
       "      <td>0.194598</td>\n",
       "      <td>-0.074436</td>\n",
       "      <td>0.577972</td>\n",
       "      <td>-0.162973</td>\n",
       "      <td>0.339324</td>\n",
       "      <td>0.042617</td>\n",
       "      <td>0.192971</td>\n",
       "    </tr>\n",
       "    <tr>\n",
       "      <th>Silver_Price</th>\n",
       "      <td>0.118991</td>\n",
       "      <td>-0.137807</td>\n",
       "      <td>0.303651</td>\n",
       "      <td>-0.418279</td>\n",
       "      <td>0.750764</td>\n",
       "      <td>0.100718</td>\n",
       "      <td>0.693683</td>\n",
       "      <td>0.125608</td>\n",
       "      <td>0.763401</td>\n",
       "      <td>0.357250</td>\n",
       "      <td>...</td>\n",
       "      <td>0.555765</td>\n",
       "      <td>0.350925</td>\n",
       "      <td>0.496092</td>\n",
       "      <td>-0.153676</td>\n",
       "      <td>0.733125</td>\n",
       "      <td>-0.173178</td>\n",
       "      <td>0.589654</td>\n",
       "      <td>0.048278</td>\n",
       "      <td>0.817131</td>\n",
       "      <td>-0.325757</td>\n",
       "    </tr>\n",
       "    <tr>\n",
       "      <th>Silver_Vol.</th>\n",
       "      <td>-0.170526</td>\n",
       "      <td>0.167141</td>\n",
       "      <td>-0.323720</td>\n",
       "      <td>0.236464</td>\n",
       "      <td>-0.333205</td>\n",
       "      <td>-0.107147</td>\n",
       "      <td>-0.250757</td>\n",
       "      <td>-0.016911</td>\n",
       "      <td>-0.051269</td>\n",
       "      <td>-0.276207</td>\n",
       "      <td>...</td>\n",
       "      <td>-0.454979</td>\n",
       "      <td>-0.415903</td>\n",
       "      <td>0.039006</td>\n",
       "      <td>-0.035500</td>\n",
       "      <td>0.005400</td>\n",
       "      <td>0.215874</td>\n",
       "      <td>-0.095299</td>\n",
       "      <td>-0.024989</td>\n",
       "      <td>-0.210448</td>\n",
       "      <td>0.643374</td>\n",
       "    </tr>\n",
       "    <tr>\n",
       "      <th>Google_Price</th>\n",
       "      <td>0.420304</td>\n",
       "      <td>-0.151159</td>\n",
       "      <td>0.660452</td>\n",
       "      <td>-0.381151</td>\n",
       "      <td>0.861036</td>\n",
       "      <td>0.041082</td>\n",
       "      <td>0.848970</td>\n",
       "      <td>0.138562</td>\n",
       "      <td>0.452207</td>\n",
       "      <td>0.370309</td>\n",
       "      <td>...</td>\n",
       "      <td>0.844856</td>\n",
       "      <td>0.598437</td>\n",
       "      <td>0.375470</td>\n",
       "      <td>-0.094082</td>\n",
       "      <td>0.665685</td>\n",
       "      <td>-0.306020</td>\n",
       "      <td>0.647574</td>\n",
       "      <td>0.099747</td>\n",
       "      <td>0.697758</td>\n",
       "      <td>-0.491554</td>\n",
       "    </tr>\n",
       "    <tr>\n",
       "      <th>Google_Vol.</th>\n",
       "      <td>-0.067424</td>\n",
       "      <td>-0.026009</td>\n",
       "      <td>-0.149010</td>\n",
       "      <td>0.155323</td>\n",
       "      <td>-0.117991</td>\n",
       "      <td>0.129092</td>\n",
       "      <td>-0.109152</td>\n",
       "      <td>0.022553</td>\n",
       "      <td>-0.151496</td>\n",
       "      <td>0.006057</td>\n",
       "      <td>...</td>\n",
       "      <td>-0.142361</td>\n",
       "      <td>-0.081907</td>\n",
       "      <td>-0.064404</td>\n",
       "      <td>0.184424</td>\n",
       "      <td>-0.102164</td>\n",
       "      <td>0.540333</td>\n",
       "      <td>-0.159416</td>\n",
       "      <td>0.421841</td>\n",
       "      <td>-0.020747</td>\n",
       "      <td>0.096140</td>\n",
       "    </tr>\n",
       "    <tr>\n",
       "      <th>Nvidia_Price</th>\n",
       "      <td>0.076696</td>\n",
       "      <td>-0.095671</td>\n",
       "      <td>0.470504</td>\n",
       "      <td>-0.345807</td>\n",
       "      <td>0.563475</td>\n",
       "      <td>0.245238</td>\n",
       "      <td>0.565506</td>\n",
       "      <td>0.041606</td>\n",
       "      <td>0.181112</td>\n",
       "      <td>0.432025</td>\n",
       "      <td>...</td>\n",
       "      <td>0.873082</td>\n",
       "      <td>0.891045</td>\n",
       "      <td>0.278600</td>\n",
       "      <td>-0.099202</td>\n",
       "      <td>0.407860</td>\n",
       "      <td>-0.323982</td>\n",
       "      <td>0.594793</td>\n",
       "      <td>0.047021</td>\n",
       "      <td>0.727522</td>\n",
       "      <td>-0.505689</td>\n",
       "    </tr>\n",
       "    <tr>\n",
       "      <th>Nvidia_Vol.</th>\n",
       "      <td>0.127899</td>\n",
       "      <td>-0.060650</td>\n",
       "      <td>0.077334</td>\n",
       "      <td>-0.026492</td>\n",
       "      <td>-0.079497</td>\n",
       "      <td>-0.045577</td>\n",
       "      <td>-0.162819</td>\n",
       "      <td>0.051906</td>\n",
       "      <td>-0.264198</td>\n",
       "      <td>0.010216</td>\n",
       "      <td>...</td>\n",
       "      <td>0.030413</td>\n",
       "      <td>0.066586</td>\n",
       "      <td>-0.234144</td>\n",
       "      <td>0.185272</td>\n",
       "      <td>-0.150851</td>\n",
       "      <td>0.251182</td>\n",
       "      <td>-0.238265</td>\n",
       "      <td>0.189690</td>\n",
       "      <td>0.003054</td>\n",
       "      <td>0.026148</td>\n",
       "    </tr>\n",
       "    <tr>\n",
       "      <th>Berkshire_Price</th>\n",
       "      <td>0.369141</td>\n",
       "      <td>-0.186109</td>\n",
       "      <td>0.765621</td>\n",
       "      <td>-0.399175</td>\n",
       "      <td>0.762503</td>\n",
       "      <td>0.201695</td>\n",
       "      <td>0.617789</td>\n",
       "      <td>0.149705</td>\n",
       "      <td>0.361384</td>\n",
       "      <td>0.546593</td>\n",
       "      <td>...</td>\n",
       "      <td>1.000000</td>\n",
       "      <td>0.840366</td>\n",
       "      <td>0.014536</td>\n",
       "      <td>-0.001375</td>\n",
       "      <td>0.279611</td>\n",
       "      <td>-0.346747</td>\n",
       "      <td>0.355109</td>\n",
       "      <td>0.160100</td>\n",
       "      <td>0.674349</td>\n",
       "      <td>-0.528343</td>\n",
       "    </tr>\n",
       "    <tr>\n",
       "      <th>Berkshire_Vol.</th>\n",
       "      <td>0.040778</td>\n",
       "      <td>-0.118843</td>\n",
       "      <td>0.462211</td>\n",
       "      <td>-0.322472</td>\n",
       "      <td>0.408700</td>\n",
       "      <td>0.362754</td>\n",
       "      <td>0.359944</td>\n",
       "      <td>0.002921</td>\n",
       "      <td>0.105542</td>\n",
       "      <td>0.504535</td>\n",
       "      <td>...</td>\n",
       "      <td>0.840366</td>\n",
       "      <td>1.000000</td>\n",
       "      <td>-0.015991</td>\n",
       "      <td>-0.002668</td>\n",
       "      <td>0.089812</td>\n",
       "      <td>-0.290450</td>\n",
       "      <td>0.307653</td>\n",
       "      <td>0.090733</td>\n",
       "      <td>0.606370</td>\n",
       "      <td>-0.474900</td>\n",
       "    </tr>\n",
       "    <tr>\n",
       "      <th>Netflix_Price</th>\n",
       "      <td>-0.333706</td>\n",
       "      <td>0.058102</td>\n",
       "      <td>-0.311422</td>\n",
       "      <td>-0.049878</td>\n",
       "      <td>0.293715</td>\n",
       "      <td>0.072362</td>\n",
       "      <td>0.545937</td>\n",
       "      <td>-0.084159</td>\n",
       "      <td>0.358214</td>\n",
       "      <td>-0.053727</td>\n",
       "      <td>...</td>\n",
       "      <td>0.014536</td>\n",
       "      <td>-0.015991</td>\n",
       "      <td>1.000000</td>\n",
       "      <td>-0.337128</td>\n",
       "      <td>0.770758</td>\n",
       "      <td>-0.044753</td>\n",
       "      <td>0.805349</td>\n",
       "      <td>-0.181761</td>\n",
       "      <td>0.304994</td>\n",
       "      <td>-0.105635</td>\n",
       "    </tr>\n",
       "    <tr>\n",
       "      <th>Netflix_Vol.</th>\n",
       "      <td>0.192001</td>\n",
       "      <td>-0.039918</td>\n",
       "      <td>0.116798</td>\n",
       "      <td>-0.117640</td>\n",
       "      <td>-0.066240</td>\n",
       "      <td>-0.012828</td>\n",
       "      <td>-0.159124</td>\n",
       "      <td>0.040178</td>\n",
       "      <td>-0.157289</td>\n",
       "      <td>0.083620</td>\n",
       "      <td>...</td>\n",
       "      <td>-0.001375</td>\n",
       "      <td>-0.002668</td>\n",
       "      <td>-0.337128</td>\n",
       "      <td>1.000000</td>\n",
       "      <td>-0.191493</td>\n",
       "      <td>0.164599</td>\n",
       "      <td>-0.288549</td>\n",
       "      <td>0.203187</td>\n",
       "      <td>-0.055696</td>\n",
       "      <td>0.029056</td>\n",
       "    </tr>\n",
       "    <tr>\n",
       "      <th>Amazon_Price</th>\n",
       "      <td>0.129552</td>\n",
       "      <td>-0.058139</td>\n",
       "      <td>0.082149</td>\n",
       "      <td>-0.278116</td>\n",
       "      <td>0.579606</td>\n",
       "      <td>-0.090301</td>\n",
       "      <td>0.716299</td>\n",
       "      <td>0.079938</td>\n",
       "      <td>0.463763</td>\n",
       "      <td>0.029779</td>\n",
       "      <td>...</td>\n",
       "      <td>0.279611</td>\n",
       "      <td>0.089812</td>\n",
       "      <td>0.770758</td>\n",
       "      <td>-0.191493</td>\n",
       "      <td>1.000000</td>\n",
       "      <td>-0.088988</td>\n",
       "      <td>0.795618</td>\n",
       "      <td>-0.034181</td>\n",
       "      <td>0.592969</td>\n",
       "      <td>-0.225644</td>\n",
       "    </tr>\n",
       "    <tr>\n",
       "      <th>Amazon_Vol.</th>\n",
       "      <td>-0.072860</td>\n",
       "      <td>0.037844</td>\n",
       "      <td>-0.277936</td>\n",
       "      <td>0.174278</td>\n",
       "      <td>-0.236933</td>\n",
       "      <td>0.023889</td>\n",
       "      <td>-0.245785</td>\n",
       "      <td>0.042463</td>\n",
       "      <td>-0.175379</td>\n",
       "      <td>-0.184651</td>\n",
       "      <td>...</td>\n",
       "      <td>-0.346747</td>\n",
       "      <td>-0.290450</td>\n",
       "      <td>-0.044753</td>\n",
       "      <td>0.164599</td>\n",
       "      <td>-0.088988</td>\n",
       "      <td>1.000000</td>\n",
       "      <td>-0.222427</td>\n",
       "      <td>0.382204</td>\n",
       "      <td>-0.138280</td>\n",
       "      <td>0.253843</td>\n",
       "    </tr>\n",
       "    <tr>\n",
       "      <th>Meta_Price</th>\n",
       "      <td>-0.196996</td>\n",
       "      <td>0.042731</td>\n",
       "      <td>0.000653</td>\n",
       "      <td>-0.150052</td>\n",
       "      <td>0.457009</td>\n",
       "      <td>0.073174</td>\n",
       "      <td>0.659982</td>\n",
       "      <td>-0.072733</td>\n",
       "      <td>0.363793</td>\n",
       "      <td>0.028684</td>\n",
       "      <td>...</td>\n",
       "      <td>0.355109</td>\n",
       "      <td>0.307653</td>\n",
       "      <td>0.805349</td>\n",
       "      <td>-0.288549</td>\n",
       "      <td>0.795618</td>\n",
       "      <td>-0.222427</td>\n",
       "      <td>1.000000</td>\n",
       "      <td>-0.244811</td>\n",
       "      <td>0.487255</td>\n",
       "      <td>-0.209983</td>\n",
       "    </tr>\n",
       "    <tr>\n",
       "      <th>Meta_Vol.</th>\n",
       "      <td>0.266667</td>\n",
       "      <td>-0.124256</td>\n",
       "      <td>0.232272</td>\n",
       "      <td>-0.091890</td>\n",
       "      <td>0.150678</td>\n",
       "      <td>0.007825</td>\n",
       "      <td>0.044831</td>\n",
       "      <td>0.099446</td>\n",
       "      <td>0.010335</td>\n",
       "      <td>0.177093</td>\n",
       "      <td>...</td>\n",
       "      <td>0.160100</td>\n",
       "      <td>0.090733</td>\n",
       "      <td>-0.181761</td>\n",
       "      <td>0.203187</td>\n",
       "      <td>-0.034181</td>\n",
       "      <td>0.382204</td>\n",
       "      <td>-0.244811</td>\n",
       "      <td>1.000000</td>\n",
       "      <td>0.146358</td>\n",
       "      <td>-0.086822</td>\n",
       "    </tr>\n",
       "    <tr>\n",
       "      <th>Gold_Price</th>\n",
       "      <td>0.135257</td>\n",
       "      <td>-0.077482</td>\n",
       "      <td>0.310117</td>\n",
       "      <td>-0.478178</td>\n",
       "      <td>0.607146</td>\n",
       "      <td>0.153904</td>\n",
       "      <td>0.538874</td>\n",
       "      <td>0.127810</td>\n",
       "      <td>0.411105</td>\n",
       "      <td>0.443250</td>\n",
       "      <td>...</td>\n",
       "      <td>0.674349</td>\n",
       "      <td>0.606370</td>\n",
       "      <td>0.304994</td>\n",
       "      <td>-0.055696</td>\n",
       "      <td>0.592969</td>\n",
       "      <td>-0.138280</td>\n",
       "      <td>0.487255</td>\n",
       "      <td>0.146358</td>\n",
       "      <td>1.000000</td>\n",
       "      <td>-0.455037</td>\n",
       "    </tr>\n",
       "    <tr>\n",
       "      <th>Gold_Vol.</th>\n",
       "      <td>-0.204888</td>\n",
       "      <td>0.189035</td>\n",
       "      <td>-0.340659</td>\n",
       "      <td>0.445651</td>\n",
       "      <td>-0.458015</td>\n",
       "      <td>-0.017432</td>\n",
       "      <td>-0.355677</td>\n",
       "      <td>0.024797</td>\n",
       "      <td>-0.167999</td>\n",
       "      <td>-0.370148</td>\n",
       "      <td>...</td>\n",
       "      <td>-0.528343</td>\n",
       "      <td>-0.474900</td>\n",
       "      <td>-0.105635</td>\n",
       "      <td>0.029056</td>\n",
       "      <td>-0.225644</td>\n",
       "      <td>0.253843</td>\n",
       "      <td>-0.209983</td>\n",
       "      <td>-0.086822</td>\n",
       "      <td>-0.455037</td>\n",
       "      <td>1.000000</td>\n",
       "    </tr>\n",
       "  </tbody>\n",
       "</table>\n",
       "<p>37 rows × 37 columns</p>\n",
       "</div>"
      ],
      "text/plain": [
       "                   Natural_Gas_Price  Natural_Gas_Vol.  Crude_oil_Price  \\\n",
       "Natural_Gas_Price           1.000000         -0.209943         0.720125   \n",
       "Natural_Gas_Vol.           -0.209943          1.000000        -0.237150   \n",
       "Crude_oil_Price             0.720125         -0.237150         1.000000   \n",
       "Crude_oil_Vol.             -0.266620          0.175865        -0.294246   \n",
       "Copper_Price                0.464759         -0.227796         0.710722   \n",
       "Copper_Vol.                -0.283107         -0.025861        -0.009591   \n",
       "Bitcoin_Price               0.288574         -0.123094         0.476376   \n",
       "Bitcoin_Vol.                0.141344         -0.045818         0.258465   \n",
       "Platinum_Price              0.072024         -0.124160         0.282867   \n",
       "Platinum_Vol.               0.114194         -0.173675         0.372903   \n",
       "Ethereum_Price              0.434061         -0.137228         0.602630   \n",
       "Ethereum_Vol.               0.039430         -0.033255         0.146216   \n",
       "S&P_500_Price               0.394936         -0.169738         0.665923   \n",
       "Nasdaq_100_Price            0.287696         -0.138037         0.515098   \n",
       "Nasdaq_100_Vol.             0.127730         -0.088959         0.181427   \n",
       "Apple_Price                 0.400177         -0.182328         0.630665   \n",
       "Apple_Vol.                 -0.232286          0.179240        -0.508177   \n",
       "Tesla_Price                 0.556997         -0.194600         0.647146   \n",
       "Tesla_Vol.                 -0.415713          0.158409        -0.459345   \n",
       "Microsoft_Price             0.311807         -0.140793         0.575067   \n",
       "Microsoft_Vol.             -0.091324          0.049832        -0.210639   \n",
       "Silver_Price                0.118991         -0.137807         0.303651   \n",
       "Silver_Vol.                -0.170526          0.167141        -0.323720   \n",
       "Google_Price                0.420304         -0.151159         0.660452   \n",
       "Google_Vol.                -0.067424         -0.026009        -0.149010   \n",
       "Nvidia_Price                0.076696         -0.095671         0.470504   \n",
       "Nvidia_Vol.                 0.127899         -0.060650         0.077334   \n",
       "Berkshire_Price             0.369141         -0.186109         0.765621   \n",
       "Berkshire_Vol.              0.040778         -0.118843         0.462211   \n",
       "Netflix_Price              -0.333706          0.058102        -0.311422   \n",
       "Netflix_Vol.                0.192001         -0.039918         0.116798   \n",
       "Amazon_Price                0.129552         -0.058139         0.082149   \n",
       "Amazon_Vol.                -0.072860          0.037844        -0.277936   \n",
       "Meta_Price                 -0.196996          0.042731         0.000653   \n",
       "Meta_Vol.                   0.266667         -0.124256         0.232272   \n",
       "Gold_Price                  0.135257         -0.077482         0.310117   \n",
       "Gold_Vol.                  -0.204888          0.189035        -0.340659   \n",
       "\n",
       "                   Crude_oil_Vol.  Copper_Price  Copper_Vol.  Bitcoin_Price  \\\n",
       "Natural_Gas_Price       -0.266620      0.464759    -0.283107       0.288574   \n",
       "Natural_Gas_Vol.         0.175865     -0.227796    -0.025861      -0.123094   \n",
       "Crude_oil_Price         -0.294246      0.710722    -0.009591       0.476376   \n",
       "Crude_oil_Vol.           1.000000     -0.379753     0.026182      -0.255044   \n",
       "Copper_Price            -0.379753      1.000000     0.092049       0.853973   \n",
       "Copper_Vol.              0.026182      0.092049     1.000000       0.051846   \n",
       "Bitcoin_Price           -0.255044      0.853973     0.051846       1.000000   \n",
       "Bitcoin_Vol.            -0.017100      0.211113     0.013498       0.127670   \n",
       "Platinum_Price          -0.217170      0.676441     0.115219       0.660796   \n",
       "Platinum_Vol.           -0.326997      0.404997     0.340629       0.234079   \n",
       "Ethereum_Price          -0.278437      0.894603     0.010289       0.918857   \n",
       "Ethereum_Vol.            0.027150      0.108641     0.058027       0.050803   \n",
       "S&P_500_Price           -0.430626      0.887495     0.089228       0.836900   \n",
       "Nasdaq_100_Price        -0.430225      0.826520     0.094848       0.840702   \n",
       "Nasdaq_100_Vol.         -0.151545      0.143468     0.194779       0.052846   \n",
       "Apple_Price             -0.497240      0.784368     0.128542       0.693188   \n",
       "Apple_Vol.               0.295893     -0.462743    -0.016968      -0.368134   \n",
       "Tesla_Price             -0.417809      0.851637    -0.018304       0.817893   \n",
       "Tesla_Vol.               0.213576     -0.474729     0.153805      -0.439503   \n",
       "Microsoft_Price         -0.440390      0.762634     0.131168       0.752466   \n",
       "Microsoft_Vol.           0.126507     -0.140506     0.141624      -0.119050   \n",
       "Silver_Price            -0.418279      0.750764     0.100718       0.693683   \n",
       "Silver_Vol.              0.236464     -0.333205    -0.107147      -0.250757   \n",
       "Google_Price            -0.381151      0.861036     0.041082       0.848970   \n",
       "Google_Vol.              0.155323     -0.117991     0.129092      -0.109152   \n",
       "Nvidia_Price            -0.345807      0.563475     0.245238       0.565506   \n",
       "Nvidia_Vol.             -0.026492     -0.079497    -0.045577      -0.162819   \n",
       "Berkshire_Price         -0.399175      0.762503     0.201695       0.617789   \n",
       "Berkshire_Vol.          -0.322472      0.408700     0.362754       0.359944   \n",
       "Netflix_Price           -0.049878      0.293715     0.072362       0.545937   \n",
       "Netflix_Vol.            -0.117640     -0.066240    -0.012828      -0.159124   \n",
       "Amazon_Price            -0.278116      0.579606    -0.090301       0.716299   \n",
       "Amazon_Vol.              0.174278     -0.236933     0.023889      -0.245785   \n",
       "Meta_Price              -0.150052      0.457009     0.073174       0.659982   \n",
       "Meta_Vol.               -0.091890      0.150678     0.007825       0.044831   \n",
       "Gold_Price              -0.478178      0.607146     0.153904       0.538874   \n",
       "Gold_Vol.                0.445651     -0.458015    -0.017432      -0.355677   \n",
       "\n",
       "                   Bitcoin_Vol.  Platinum_Price  Platinum_Vol.  ...  \\\n",
       "Natural_Gas_Price      0.141344        0.072024       0.114194  ...   \n",
       "Natural_Gas_Vol.      -0.045818       -0.124160      -0.173675  ...   \n",
       "Crude_oil_Price        0.258465        0.282867       0.372903  ...   \n",
       "Crude_oil_Vol.        -0.017100       -0.217170      -0.326997  ...   \n",
       "Copper_Price           0.211113        0.676441       0.404997  ...   \n",
       "Copper_Vol.            0.013498        0.115219       0.340629  ...   \n",
       "Bitcoin_Price          0.127670        0.660796       0.234079  ...   \n",
       "Bitcoin_Vol.           1.000000        0.099098      -0.013019  ...   \n",
       "Platinum_Price         0.099098        1.000000       0.226918  ...   \n",
       "Platinum_Vol.         -0.013019        0.226918       1.000000  ...   \n",
       "Ethereum_Price         0.157011        0.518632       0.272471  ...   \n",
       "Ethereum_Vol.          0.939881        0.073158      -0.057843  ...   \n",
       "S&P_500_Price          0.111162        0.531123       0.444383  ...   \n",
       "Nasdaq_100_Price       0.079861        0.499241       0.401470  ...   \n",
       "Nasdaq_100_Vol.        0.084438       -0.059137       0.288978  ...   \n",
       "Apple_Price            0.105168        0.402111       0.532572  ...   \n",
       "Apple_Vol.            -0.003180       -0.288323      -0.344492  ...   \n",
       "Tesla_Price            0.153548        0.469790       0.396947  ...   \n",
       "Tesla_Vol.            -0.094356       -0.254743      -0.130777  ...   \n",
       "Microsoft_Price        0.086007        0.368992       0.453592  ...   \n",
       "Microsoft_Vol.         0.058522       -0.156407      -0.019681  ...   \n",
       "Silver_Price           0.125608        0.763401       0.357250  ...   \n",
       "Silver_Vol.           -0.016911       -0.051269      -0.276207  ...   \n",
       "Google_Price           0.138562        0.452207       0.370309  ...   \n",
       "Google_Vol.            0.022553       -0.151496       0.006057  ...   \n",
       "Nvidia_Price           0.041606        0.181112       0.432025  ...   \n",
       "Nvidia_Vol.            0.051906       -0.264198       0.010216  ...   \n",
       "Berkshire_Price        0.149705        0.361384       0.546593  ...   \n",
       "Berkshire_Vol.         0.002921        0.105542       0.504535  ...   \n",
       "Netflix_Price         -0.084159        0.358214      -0.053727  ...   \n",
       "Netflix_Vol.           0.040178       -0.157289       0.083620  ...   \n",
       "Amazon_Price           0.079938        0.463763       0.029779  ...   \n",
       "Amazon_Vol.            0.042463       -0.175379      -0.184651  ...   \n",
       "Meta_Price            -0.072733        0.363793       0.028684  ...   \n",
       "Meta_Vol.              0.099446        0.010335       0.177093  ...   \n",
       "Gold_Price             0.127810        0.411105       0.443250  ...   \n",
       "Gold_Vol.              0.024797       -0.167999      -0.370148  ...   \n",
       "\n",
       "                   Berkshire_Price  Berkshire_Vol.  Netflix_Price  \\\n",
       "Natural_Gas_Price         0.369141        0.040778      -0.333706   \n",
       "Natural_Gas_Vol.         -0.186109       -0.118843       0.058102   \n",
       "Crude_oil_Price           0.765621        0.462211      -0.311422   \n",
       "Crude_oil_Vol.           -0.399175       -0.322472      -0.049878   \n",
       "Copper_Price              0.762503        0.408700       0.293715   \n",
       "Copper_Vol.               0.201695        0.362754       0.072362   \n",
       "Bitcoin_Price             0.617789        0.359944       0.545937   \n",
       "Bitcoin_Vol.              0.149705        0.002921      -0.084159   \n",
       "Platinum_Price            0.361384        0.105542       0.358214   \n",
       "Platinum_Vol.             0.546593        0.504535      -0.053727   \n",
       "Ethereum_Price            0.699793        0.380233       0.429243   \n",
       "Ethereum_Vol.             0.057083       -0.031757      -0.045896   \n",
       "S&P_500_Price             0.890983        0.640486       0.355452   \n",
       "Nasdaq_100_Price          0.811769        0.621819       0.501888   \n",
       "Nasdaq_100_Vol.           0.279845        0.338308      -0.157562   \n",
       "Apple_Price               0.896975        0.729365       0.217030   \n",
       "Apple_Vol.               -0.578918       -0.453390       0.011647   \n",
       "Tesla_Price               0.736101        0.450463       0.317826   \n",
       "Tesla_Vol.               -0.359327       -0.146769      -0.059122   \n",
       "Microsoft_Price           0.886227        0.752489       0.338087   \n",
       "Microsoft_Vol.           -0.165806       -0.090151      -0.048859   \n",
       "Silver_Price              0.555765        0.350925       0.496092   \n",
       "Silver_Vol.              -0.454979       -0.415903       0.039006   \n",
       "Google_Price              0.844856        0.598437       0.375470   \n",
       "Google_Vol.              -0.142361       -0.081907      -0.064404   \n",
       "Nvidia_Price              0.873082        0.891045       0.278600   \n",
       "Nvidia_Vol.               0.030413        0.066586      -0.234144   \n",
       "Berkshire_Price           1.000000        0.840366       0.014536   \n",
       "Berkshire_Vol.            0.840366        1.000000      -0.015991   \n",
       "Netflix_Price             0.014536       -0.015991       1.000000   \n",
       "Netflix_Vol.             -0.001375       -0.002668      -0.337128   \n",
       "Amazon_Price              0.279611        0.089812       0.770758   \n",
       "Amazon_Vol.              -0.346747       -0.290450      -0.044753   \n",
       "Meta_Price                0.355109        0.307653       0.805349   \n",
       "Meta_Vol.                 0.160100        0.090733      -0.181761   \n",
       "Gold_Price                0.674349        0.606370       0.304994   \n",
       "Gold_Vol.                -0.528343       -0.474900      -0.105635   \n",
       "\n",
       "                   Netflix_Vol.  Amazon_Price  Amazon_Vol.  Meta_Price  \\\n",
       "Natural_Gas_Price      0.192001      0.129552    -0.072860   -0.196996   \n",
       "Natural_Gas_Vol.      -0.039918     -0.058139     0.037844    0.042731   \n",
       "Crude_oil_Price        0.116798      0.082149    -0.277936    0.000653   \n",
       "Crude_oil_Vol.        -0.117640     -0.278116     0.174278   -0.150052   \n",
       "Copper_Price          -0.066240      0.579606    -0.236933    0.457009   \n",
       "Copper_Vol.           -0.012828     -0.090301     0.023889    0.073174   \n",
       "Bitcoin_Price         -0.159124      0.716299    -0.245785    0.659982   \n",
       "Bitcoin_Vol.           0.040178      0.079938     0.042463   -0.072733   \n",
       "Platinum_Price        -0.157289      0.463763    -0.175379    0.363793   \n",
       "Platinum_Vol.          0.083620      0.029779    -0.184651    0.028684   \n",
       "Ethereum_Price        -0.098555      0.632728    -0.239835    0.566201   \n",
       "Ethereum_Vol.         -0.012872      0.034377     0.056605   -0.072378   \n",
       "S&P_500_Price         -0.097484      0.630431    -0.339728    0.612686   \n",
       "Nasdaq_100_Price      -0.137021      0.754037    -0.293410    0.728045   \n",
       "Nasdaq_100_Vol.        0.195555     -0.064012     0.345191   -0.120354   \n",
       "Apple_Price           -0.028950      0.552444    -0.280129    0.478005   \n",
       "Apple_Vol.             0.076508     -0.100603     0.609152   -0.205936   \n",
       "Tesla_Price           -0.025876      0.688165    -0.224009    0.473493   \n",
       "Tesla_Vol.             0.035366     -0.283697     0.362265   -0.215377   \n",
       "Microsoft_Price       -0.083579      0.599515    -0.297595    0.615400   \n",
       "Microsoft_Vol.         0.194598     -0.074436     0.577972   -0.162973   \n",
       "Silver_Price          -0.153676      0.733125    -0.173178    0.589654   \n",
       "Silver_Vol.           -0.035500      0.005400     0.215874   -0.095299   \n",
       "Google_Price          -0.094082      0.665685    -0.306020    0.647574   \n",
       "Google_Vol.            0.184424     -0.102164     0.540333   -0.159416   \n",
       "Nvidia_Price          -0.099202      0.407860    -0.323982    0.594793   \n",
       "Nvidia_Vol.            0.185272     -0.150851     0.251182   -0.238265   \n",
       "Berkshire_Price       -0.001375      0.279611    -0.346747    0.355109   \n",
       "Berkshire_Vol.        -0.002668      0.089812    -0.290450    0.307653   \n",
       "Netflix_Price         -0.337128      0.770758    -0.044753    0.805349   \n",
       "Netflix_Vol.           1.000000     -0.191493     0.164599   -0.288549   \n",
       "Amazon_Price          -0.191493      1.000000    -0.088988    0.795618   \n",
       "Amazon_Vol.            0.164599     -0.088988     1.000000   -0.222427   \n",
       "Meta_Price            -0.288549      0.795618    -0.222427    1.000000   \n",
       "Meta_Vol.              0.203187     -0.034181     0.382204   -0.244811   \n",
       "Gold_Price            -0.055696      0.592969    -0.138280    0.487255   \n",
       "Gold_Vol.              0.029056     -0.225644     0.253843   -0.209983   \n",
       "\n",
       "                   Meta_Vol.  Gold_Price  Gold_Vol.  \n",
       "Natural_Gas_Price   0.266667    0.135257  -0.204888  \n",
       "Natural_Gas_Vol.   -0.124256   -0.077482   0.189035  \n",
       "Crude_oil_Price     0.232272    0.310117  -0.340659  \n",
       "Crude_oil_Vol.     -0.091890   -0.478178   0.445651  \n",
       "Copper_Price        0.150678    0.607146  -0.458015  \n",
       "Copper_Vol.         0.007825    0.153904  -0.017432  \n",
       "Bitcoin_Price       0.044831    0.538874  -0.355677  \n",
       "Bitcoin_Vol.        0.099446    0.127810   0.024797  \n",
       "Platinum_Price      0.010335    0.411105  -0.167999  \n",
       "Platinum_Vol.       0.177093    0.443250  -0.370148  \n",
       "Ethereum_Price      0.117065    0.534024  -0.400633  \n",
       "Ethereum_Vol.       0.066662    0.067808   0.070919  \n",
       "S&P_500_Price       0.113821    0.742476  -0.521093  \n",
       "Nasdaq_100_Price    0.077701    0.806165  -0.510180  \n",
       "Nasdaq_100_Vol.     0.427395    0.271243  -0.124232  \n",
       "Apple_Price         0.202711    0.848809  -0.565810  \n",
       "Apple_Vol.          0.106530   -0.264835   0.469947  \n",
       "Tesla_Price         0.201261    0.689413  -0.458341  \n",
       "Tesla_Vol.         -0.013725   -0.163094   0.222755  \n",
       "Microsoft_Price     0.124084    0.826407  -0.546814  \n",
       "Microsoft_Vol.      0.339324    0.042617   0.192971  \n",
       "Silver_Price        0.048278    0.817131  -0.325757  \n",
       "Silver_Vol.        -0.024989   -0.210448   0.643374  \n",
       "Google_Price        0.099747    0.697758  -0.491554  \n",
       "Google_Vol.         0.421841   -0.020747   0.096140  \n",
       "Nvidia_Price        0.047021    0.727522  -0.505689  \n",
       "Nvidia_Vol.         0.189690    0.003054   0.026148  \n",
       "Berkshire_Price     0.160100    0.674349  -0.528343  \n",
       "Berkshire_Vol.      0.090733    0.606370  -0.474900  \n",
       "Netflix_Price      -0.181761    0.304994  -0.105635  \n",
       "Netflix_Vol.        0.203187   -0.055696   0.029056  \n",
       "Amazon_Price       -0.034181    0.592969  -0.225644  \n",
       "Amazon_Vol.         0.382204   -0.138280   0.253843  \n",
       "Meta_Price         -0.244811    0.487255  -0.209983  \n",
       "Meta_Vol.           1.000000    0.146358  -0.086822  \n",
       "Gold_Price          0.146358    1.000000  -0.455037  \n",
       "Gold_Vol.          -0.086822   -0.455037   1.000000  \n",
       "\n",
       "[37 rows x 37 columns]"
      ]
     },
     "execution_count": 139,
     "metadata": {},
     "output_type": "execute_result"
    }
   ],
   "source": [
    "\n",
    "df_check.corr()\n"
   ]
  },
  {
   "cell_type": "code",
   "execution_count": 140,
   "metadata": {},
   "outputs": [],
   "source": [
    "energy = ['Date','Natural_Gas_Price', 'Natural_Gas_Vol.', 'Crude_oil_Price', 'Crude_oil_Vol.']\n",
    "metal = ['Date','Copper_Price', 'Copper_Vol.', 'Platinum_Price', 'Platinum_Vol.', 'Silver_Price', 'Silver_Vol.']\n",
    "cryto = ['Date','Bitcoin_Price', 'Bitcoin_Vol.', 'Ethereum_Price', 'Ethereum_Vol.','Gold_Price', 'Gold_Vol.']\n",
    "stock = ['Date','S&P_500_Price', 'Nasdaq_100_Price', 'Nasdaq_100_Vol.', 'Apple_Price', 'Apple_Vol.', 'Tesla_Price', 'Tesla_Vol.', 'Microsoft_Price', 'Microsoft_Vol.', 'Google_Price', 'Google_Vol.', 'Nvidia_Price', 'Nvidia_Vol.', 'Berkshire_Price', 'Berkshire_Vol.', 'Netflix_Price', 'Netflix_Vol.', 'Amazon_Price', 'Amazon_Vol.', 'Meta_Price', 'Meta_Vol.']\n",
    "gold = ['Date','Gold_Price', 'Gold_Vol.']"
   ]
  },
  {
   "cell_type": "code",
   "execution_count": 141,
   "metadata": {},
   "outputs": [
    {
     "name": "stdout",
     "output_type": "stream",
     "text": [
      "Nhóm Năng lượng: ['Date', 'Natural_Gas_Price', 'Natural_Gas_Vol.', 'Crude_oil_Price', 'Crude_oil_Vol.']\n",
      "Nhóm Kim loại: ['Date', 'Copper_Price', 'Copper_Vol.', 'Platinum_Price', 'Platinum_Vol.', 'Silver_Price', 'Silver_Vol.']\n",
      "Nhóm Tiền điện tử: ['Date', 'Bitcoin_Price', 'Bitcoin_Vol.', 'Ethereum_Price', 'Ethereum_Vol.', 'Gold_Price', 'Gold_Vol.']\n",
      "Nhóm Chứng khoán: ['Date', 'S&P_500_Price', 'Nasdaq_100_Price', 'Nasdaq_100_Vol.', 'Apple_Price', 'Apple_Vol.', 'Tesla_Price', 'Tesla_Vol.', 'Microsoft_Price', 'Microsoft_Vol.', 'Google_Price', 'Google_Vol.', 'Nvidia_Price', 'Nvidia_Vol.', 'Berkshire_Price', 'Berkshire_Vol.', 'Netflix_Price', 'Netflix_Vol.', 'Amazon_Price', 'Amazon_Vol.', 'Meta_Price', 'Meta_Vol.']\n",
      "Nhóm Vàng: ['Date', 'Gold_Price', 'Gold_Vol.']\n"
     ]
    }
   ],
   "source": [
    "groups = {\n",
    "    'Nhóm Năng lượng': energy,\n",
    "    'Nhóm Kim loại': metal,\n",
    "    'Nhóm Tiền điện tử': cryto,\n",
    "    'Nhóm Chứng khoán': stock,\n",
    "    'Nhóm Vàng': gold\n",
    "}\n",
    "for group, columns in groups.items():\n",
    "    print(f'{group}: {columns}')"
   ]
  },
  {
   "cell_type": "code",
   "execution_count": 142,
   "metadata": {},
   "outputs": [],
   "source": [
    "df_stock = df[stock]\n",
    "df_energy = df[energy]\n",
    "df_metal= df[metal]\n",
    "df_cryto= df[cryto]\n",
    "df_gold = df[gold]\n",
    "df_stock.to_csv('Group Stock.csv')\n",
    "df_energy.to_csv('Group energy.csv')\n",
    "df_metal.to_csv('Group metal.csv')\n",
    "df_cryto.to_csv('Group cryto.csv')\n",
    "df_gold.to_csv('Group gold.csv')"
   ]
  },
  {
   "cell_type": "code",
   "execution_count": 143,
   "metadata": {},
   "outputs": [],
   "source": [
    "df_corr=df_check[price].corr() \n",
    "df_corr = df_corr.mask(df_corr >= 0.999)"
   ]
  },
  {
   "cell_type": "code",
   "execution_count": 144,
   "metadata": {},
   "outputs": [],
   "source": [
    "most_correlated_price = {}\n",
    "for column in df_corr.columns:\n",
    "    max_corr_column = df_corr[column].idxmax() \n",
    "    if column != max_corr_column:\n",
    "        key = f\"{column}/{max_corr_column}\"\n",
    "        value = df_corr[column].loc[max_corr_column]\n",
    "        most_correlated_price[key] = value"
   ]
  },
  {
   "cell_type": "code",
   "execution_count": 145,
   "metadata": {},
   "outputs": [
    {
     "data": {
      "application/vnd.plotly.v1+json": {
       "config": {
        "plotlyServerURL": "https://plot.ly"
       },
       "data": [
        {
         "alignmentgroup": "True",
         "bingroup": "x",
         "histfunc": "sum",
         "hovertemplate": "Pair=%{x}<br>sum of Correlation=%{y}<extra></extra>",
         "legendgroup": "",
         "marker": {
          "color": "#636efa",
          "pattern": {
           "shape": ""
          }
         },
         "name": "",
         "offsetgroup": "",
         "orientation": "v",
         "showlegend": false,
         "type": "histogram",
         "x": [
          "Google_Price/S&P_500_Price",
          "S&P_500_Price/Google_Price",
          "Nasdaq_100_Price/S&P_500_Price",
          "Apple_Price/Microsoft_Price",
          "Microsoft_Price/Apple_Price",
          "Bitcoin_Price/Ethereum_Price",
          "Ethereum_Price/Bitcoin_Price",
          "Nvidia_Price/Microsoft_Price",
          "Tesla_Price/Google_Price",
          "Berkshire_Price/Apple_Price",
          "Copper_Price/Ethereum_Price",
          "Gold_Price/Apple_Price",
          "Silver_Price/Gold_Price",
          "Netflix_Price/Meta_Price",
          "Meta_Price/Netflix_Price",
          "Amazon_Price/Meta_Price",
          "Crude_oil_Price/Berkshire_Price",
          "Platinum_Price/Silver_Price",
          "Natural_Gas_Price/Crude_oil_Price"
         ],
         "xaxis": "x",
         "y": [
          0.9708641970880378,
          0.9708641970880378,
          0.9703148107570317,
          0.9651124680392889,
          0.9651124680392889,
          0.9188565704931263,
          0.9188565704931263,
          0.915128642393966,
          0.9006999230525039,
          0.8969751649529768,
          0.8946028220912734,
          0.8488088179593576,
          0.8171310666937611,
          0.8053491128486063,
          0.8053491128486063,
          0.7956182599141414,
          0.7656211514622667,
          0.7634009694495055,
          0.7201252879636447
         ],
         "yaxis": "y"
        }
       ],
       "layout": {
        "barmode": "relative",
        "legend": {
         "tracegroupgap": 0
        },
        "margin": {
         "t": 60
        },
        "template": {
         "data": {
          "bar": [
           {
            "error_x": {
             "color": "#2a3f5f"
            },
            "error_y": {
             "color": "#2a3f5f"
            },
            "marker": {
             "line": {
              "color": "#E5ECF6",
              "width": 0.5
             },
             "pattern": {
              "fillmode": "overlay",
              "size": 10,
              "solidity": 0.2
             }
            },
            "type": "bar"
           }
          ],
          "barpolar": [
           {
            "marker": {
             "line": {
              "color": "#E5ECF6",
              "width": 0.5
             },
             "pattern": {
              "fillmode": "overlay",
              "size": 10,
              "solidity": 0.2
             }
            },
            "type": "barpolar"
           }
          ],
          "carpet": [
           {
            "aaxis": {
             "endlinecolor": "#2a3f5f",
             "gridcolor": "white",
             "linecolor": "white",
             "minorgridcolor": "white",
             "startlinecolor": "#2a3f5f"
            },
            "baxis": {
             "endlinecolor": "#2a3f5f",
             "gridcolor": "white",
             "linecolor": "white",
             "minorgridcolor": "white",
             "startlinecolor": "#2a3f5f"
            },
            "type": "carpet"
           }
          ],
          "choropleth": [
           {
            "colorbar": {
             "outlinewidth": 0,
             "ticks": ""
            },
            "type": "choropleth"
           }
          ],
          "contour": [
           {
            "colorbar": {
             "outlinewidth": 0,
             "ticks": ""
            },
            "colorscale": [
             [
              0,
              "#0d0887"
             ],
             [
              0.1111111111111111,
              "#46039f"
             ],
             [
              0.2222222222222222,
              "#7201a8"
             ],
             [
              0.3333333333333333,
              "#9c179e"
             ],
             [
              0.4444444444444444,
              "#bd3786"
             ],
             [
              0.5555555555555556,
              "#d8576b"
             ],
             [
              0.6666666666666666,
              "#ed7953"
             ],
             [
              0.7777777777777778,
              "#fb9f3a"
             ],
             [
              0.8888888888888888,
              "#fdca26"
             ],
             [
              1,
              "#f0f921"
             ]
            ],
            "type": "contour"
           }
          ],
          "contourcarpet": [
           {
            "colorbar": {
             "outlinewidth": 0,
             "ticks": ""
            },
            "type": "contourcarpet"
           }
          ],
          "heatmap": [
           {
            "colorbar": {
             "outlinewidth": 0,
             "ticks": ""
            },
            "colorscale": [
             [
              0,
              "#0d0887"
             ],
             [
              0.1111111111111111,
              "#46039f"
             ],
             [
              0.2222222222222222,
              "#7201a8"
             ],
             [
              0.3333333333333333,
              "#9c179e"
             ],
             [
              0.4444444444444444,
              "#bd3786"
             ],
             [
              0.5555555555555556,
              "#d8576b"
             ],
             [
              0.6666666666666666,
              "#ed7953"
             ],
             [
              0.7777777777777778,
              "#fb9f3a"
             ],
             [
              0.8888888888888888,
              "#fdca26"
             ],
             [
              1,
              "#f0f921"
             ]
            ],
            "type": "heatmap"
           }
          ],
          "heatmapgl": [
           {
            "colorbar": {
             "outlinewidth": 0,
             "ticks": ""
            },
            "colorscale": [
             [
              0,
              "#0d0887"
             ],
             [
              0.1111111111111111,
              "#46039f"
             ],
             [
              0.2222222222222222,
              "#7201a8"
             ],
             [
              0.3333333333333333,
              "#9c179e"
             ],
             [
              0.4444444444444444,
              "#bd3786"
             ],
             [
              0.5555555555555556,
              "#d8576b"
             ],
             [
              0.6666666666666666,
              "#ed7953"
             ],
             [
              0.7777777777777778,
              "#fb9f3a"
             ],
             [
              0.8888888888888888,
              "#fdca26"
             ],
             [
              1,
              "#f0f921"
             ]
            ],
            "type": "heatmapgl"
           }
          ],
          "histogram": [
           {
            "marker": {
             "pattern": {
              "fillmode": "overlay",
              "size": 10,
              "solidity": 0.2
             }
            },
            "type": "histogram"
           }
          ],
          "histogram2d": [
           {
            "colorbar": {
             "outlinewidth": 0,
             "ticks": ""
            },
            "colorscale": [
             [
              0,
              "#0d0887"
             ],
             [
              0.1111111111111111,
              "#46039f"
             ],
             [
              0.2222222222222222,
              "#7201a8"
             ],
             [
              0.3333333333333333,
              "#9c179e"
             ],
             [
              0.4444444444444444,
              "#bd3786"
             ],
             [
              0.5555555555555556,
              "#d8576b"
             ],
             [
              0.6666666666666666,
              "#ed7953"
             ],
             [
              0.7777777777777778,
              "#fb9f3a"
             ],
             [
              0.8888888888888888,
              "#fdca26"
             ],
             [
              1,
              "#f0f921"
             ]
            ],
            "type": "histogram2d"
           }
          ],
          "histogram2dcontour": [
           {
            "colorbar": {
             "outlinewidth": 0,
             "ticks": ""
            },
            "colorscale": [
             [
              0,
              "#0d0887"
             ],
             [
              0.1111111111111111,
              "#46039f"
             ],
             [
              0.2222222222222222,
              "#7201a8"
             ],
             [
              0.3333333333333333,
              "#9c179e"
             ],
             [
              0.4444444444444444,
              "#bd3786"
             ],
             [
              0.5555555555555556,
              "#d8576b"
             ],
             [
              0.6666666666666666,
              "#ed7953"
             ],
             [
              0.7777777777777778,
              "#fb9f3a"
             ],
             [
              0.8888888888888888,
              "#fdca26"
             ],
             [
              1,
              "#f0f921"
             ]
            ],
            "type": "histogram2dcontour"
           }
          ],
          "mesh3d": [
           {
            "colorbar": {
             "outlinewidth": 0,
             "ticks": ""
            },
            "type": "mesh3d"
           }
          ],
          "parcoords": [
           {
            "line": {
             "colorbar": {
              "outlinewidth": 0,
              "ticks": ""
             }
            },
            "type": "parcoords"
           }
          ],
          "pie": [
           {
            "automargin": true,
            "type": "pie"
           }
          ],
          "scatter": [
           {
            "fillpattern": {
             "fillmode": "overlay",
             "size": 10,
             "solidity": 0.2
            },
            "type": "scatter"
           }
          ],
          "scatter3d": [
           {
            "line": {
             "colorbar": {
              "outlinewidth": 0,
              "ticks": ""
             }
            },
            "marker": {
             "colorbar": {
              "outlinewidth": 0,
              "ticks": ""
             }
            },
            "type": "scatter3d"
           }
          ],
          "scattercarpet": [
           {
            "marker": {
             "colorbar": {
              "outlinewidth": 0,
              "ticks": ""
             }
            },
            "type": "scattercarpet"
           }
          ],
          "scattergeo": [
           {
            "marker": {
             "colorbar": {
              "outlinewidth": 0,
              "ticks": ""
             }
            },
            "type": "scattergeo"
           }
          ],
          "scattergl": [
           {
            "marker": {
             "colorbar": {
              "outlinewidth": 0,
              "ticks": ""
             }
            },
            "type": "scattergl"
           }
          ],
          "scattermapbox": [
           {
            "marker": {
             "colorbar": {
              "outlinewidth": 0,
              "ticks": ""
             }
            },
            "type": "scattermapbox"
           }
          ],
          "scatterpolar": [
           {
            "marker": {
             "colorbar": {
              "outlinewidth": 0,
              "ticks": ""
             }
            },
            "type": "scatterpolar"
           }
          ],
          "scatterpolargl": [
           {
            "marker": {
             "colorbar": {
              "outlinewidth": 0,
              "ticks": ""
             }
            },
            "type": "scatterpolargl"
           }
          ],
          "scatterternary": [
           {
            "marker": {
             "colorbar": {
              "outlinewidth": 0,
              "ticks": ""
             }
            },
            "type": "scatterternary"
           }
          ],
          "surface": [
           {
            "colorbar": {
             "outlinewidth": 0,
             "ticks": ""
            },
            "colorscale": [
             [
              0,
              "#0d0887"
             ],
             [
              0.1111111111111111,
              "#46039f"
             ],
             [
              0.2222222222222222,
              "#7201a8"
             ],
             [
              0.3333333333333333,
              "#9c179e"
             ],
             [
              0.4444444444444444,
              "#bd3786"
             ],
             [
              0.5555555555555556,
              "#d8576b"
             ],
             [
              0.6666666666666666,
              "#ed7953"
             ],
             [
              0.7777777777777778,
              "#fb9f3a"
             ],
             [
              0.8888888888888888,
              "#fdca26"
             ],
             [
              1,
              "#f0f921"
             ]
            ],
            "type": "surface"
           }
          ],
          "table": [
           {
            "cells": {
             "fill": {
              "color": "#EBF0F8"
             },
             "line": {
              "color": "white"
             }
            },
            "header": {
             "fill": {
              "color": "#C8D4E3"
             },
             "line": {
              "color": "white"
             }
            },
            "type": "table"
           }
          ]
         },
         "layout": {
          "annotationdefaults": {
           "arrowcolor": "#2a3f5f",
           "arrowhead": 0,
           "arrowwidth": 1
          },
          "autotypenumbers": "strict",
          "coloraxis": {
           "colorbar": {
            "outlinewidth": 0,
            "ticks": ""
           }
          },
          "colorscale": {
           "diverging": [
            [
             0,
             "#8e0152"
            ],
            [
             0.1,
             "#c51b7d"
            ],
            [
             0.2,
             "#de77ae"
            ],
            [
             0.3,
             "#f1b6da"
            ],
            [
             0.4,
             "#fde0ef"
            ],
            [
             0.5,
             "#f7f7f7"
            ],
            [
             0.6,
             "#e6f5d0"
            ],
            [
             0.7,
             "#b8e186"
            ],
            [
             0.8,
             "#7fbc41"
            ],
            [
             0.9,
             "#4d9221"
            ],
            [
             1,
             "#276419"
            ]
           ],
           "sequential": [
            [
             0,
             "#0d0887"
            ],
            [
             0.1111111111111111,
             "#46039f"
            ],
            [
             0.2222222222222222,
             "#7201a8"
            ],
            [
             0.3333333333333333,
             "#9c179e"
            ],
            [
             0.4444444444444444,
             "#bd3786"
            ],
            [
             0.5555555555555556,
             "#d8576b"
            ],
            [
             0.6666666666666666,
             "#ed7953"
            ],
            [
             0.7777777777777778,
             "#fb9f3a"
            ],
            [
             0.8888888888888888,
             "#fdca26"
            ],
            [
             1,
             "#f0f921"
            ]
           ],
           "sequentialminus": [
            [
             0,
             "#0d0887"
            ],
            [
             0.1111111111111111,
             "#46039f"
            ],
            [
             0.2222222222222222,
             "#7201a8"
            ],
            [
             0.3333333333333333,
             "#9c179e"
            ],
            [
             0.4444444444444444,
             "#bd3786"
            ],
            [
             0.5555555555555556,
             "#d8576b"
            ],
            [
             0.6666666666666666,
             "#ed7953"
            ],
            [
             0.7777777777777778,
             "#fb9f3a"
            ],
            [
             0.8888888888888888,
             "#fdca26"
            ],
            [
             1,
             "#f0f921"
            ]
           ]
          },
          "colorway": [
           "#636efa",
           "#EF553B",
           "#00cc96",
           "#ab63fa",
           "#FFA15A",
           "#19d3f3",
           "#FF6692",
           "#B6E880",
           "#FF97FF",
           "#FECB52"
          ],
          "font": {
           "color": "#2a3f5f"
          },
          "geo": {
           "bgcolor": "white",
           "lakecolor": "white",
           "landcolor": "#E5ECF6",
           "showlakes": true,
           "showland": true,
           "subunitcolor": "white"
          },
          "hoverlabel": {
           "align": "left"
          },
          "hovermode": "closest",
          "mapbox": {
           "style": "light"
          },
          "paper_bgcolor": "white",
          "plot_bgcolor": "#E5ECF6",
          "polar": {
           "angularaxis": {
            "gridcolor": "white",
            "linecolor": "white",
            "ticks": ""
           },
           "bgcolor": "#E5ECF6",
           "radialaxis": {
            "gridcolor": "white",
            "linecolor": "white",
            "ticks": ""
           }
          },
          "scene": {
           "xaxis": {
            "backgroundcolor": "#E5ECF6",
            "gridcolor": "white",
            "gridwidth": 2,
            "linecolor": "white",
            "showbackground": true,
            "ticks": "",
            "zerolinecolor": "white"
           },
           "yaxis": {
            "backgroundcolor": "#E5ECF6",
            "gridcolor": "white",
            "gridwidth": 2,
            "linecolor": "white",
            "showbackground": true,
            "ticks": "",
            "zerolinecolor": "white"
           },
           "zaxis": {
            "backgroundcolor": "#E5ECF6",
            "gridcolor": "white",
            "gridwidth": 2,
            "linecolor": "white",
            "showbackground": true,
            "ticks": "",
            "zerolinecolor": "white"
           }
          },
          "shapedefaults": {
           "line": {
            "color": "#2a3f5f"
           }
          },
          "ternary": {
           "aaxis": {
            "gridcolor": "white",
            "linecolor": "white",
            "ticks": ""
           },
           "baxis": {
            "gridcolor": "white",
            "linecolor": "white",
            "ticks": ""
           },
           "bgcolor": "#E5ECF6",
           "caxis": {
            "gridcolor": "white",
            "linecolor": "white",
            "ticks": ""
           }
          },
          "title": {
           "x": 0.05
          },
          "xaxis": {
           "automargin": true,
           "gridcolor": "white",
           "linecolor": "white",
           "ticks": "",
           "title": {
            "standoff": 15
           },
           "zerolinecolor": "white",
           "zerolinewidth": 2
          },
          "yaxis": {
           "automargin": true,
           "gridcolor": "white",
           "linecolor": "white",
           "ticks": "",
           "title": {
            "standoff": 15
           },
           "zerolinecolor": "white",
           "zerolinewidth": 2
          }
         }
        },
        "xaxis": {
         "anchor": "y",
         "domain": [
          0,
          1
         ],
         "title": {
          "text": "Pair"
         }
        },
        "yaxis": {
         "anchor": "x",
         "domain": [
          0,
          1
         ],
         "title": {
          "text": "sum of Correlation"
         }
        }
       }
      }
     },
     "metadata": {},
     "output_type": "display_data"
    }
   ],
   "source": [
    "\n",
    "most_correlated_df = pd.DataFrame(data=most_correlated_price.items(), columns=['Pair', 'Correlation']).sort_values(by='Correlation', ascending=False)\n",
    "\n",
    "fig = px.histogram(data_frame=most_correlated_df, x='Pair', y='Correlation')\n",
    "fig.show()\n"
   ]
  },
  {
   "cell_type": "code",
   "execution_count": 146,
   "metadata": {},
   "outputs": [],
   "source": [
    "df_corr=df_check[volume].corr() \n",
    "df_corr = df_corr.mask(df_corr >= 0.999)"
   ]
  },
  {
   "cell_type": "code",
   "execution_count": 147,
   "metadata": {},
   "outputs": [],
   "source": [
    "most_correlated_volume = {}\n",
    "for column in df_corr.columns:\n",
    "    max_corr_column = df_corr[column].idxmax() \n",
    "    if column != max_corr_column:\n",
    "        key = f\"{column}/{max_corr_column}\"\n",
    "        value = df_corr[column].loc[max_corr_column]\n",
    "        most_correlated_volume[key] = value"
   ]
  },
  {
   "cell_type": "code",
   "execution_count": 148,
   "metadata": {},
   "outputs": [
    {
     "data": {
      "application/vnd.plotly.v1+json": {
       "config": {
        "plotlyServerURL": "https://plot.ly"
       },
       "data": [
        {
         "alignmentgroup": "True",
         "bingroup": "x",
         "histfunc": "sum",
         "hovertemplate": "Pair=%{x}<br>sum of Correlation=%{y}<extra></extra>",
         "legendgroup": "",
         "marker": {
          "color": "#636efa",
          "pattern": {
           "shape": ""
          }
         },
         "name": "",
         "offsetgroup": "",
         "orientation": "v",
         "showlegend": false,
         "type": "histogram",
         "x": [
          "Ethereum_Vol./Bitcoin_Vol.",
          "Bitcoin_Vol./Ethereum_Vol.",
          "Microsoft_Vol./Google_Vol.",
          "Google_Vol./Microsoft_Vol.",
          "Silver_Vol./Gold_Vol.",
          "Gold_Vol./Silver_Vol.",
          "Apple_Vol./Microsoft_Vol.",
          "Amazon_Vol./Apple_Vol.",
          "Nasdaq_100_Vol./Microsoft_Vol.",
          "Platinum_Vol./Berkshire_Vol.",
          "Berkshire_Vol./Platinum_Vol.",
          "Crude_oil_Vol./Gold_Vol.",
          "Tesla_Vol./Apple_Vol.",
          "Meta_Vol./Nasdaq_100_Vol.",
          "Nvidia_Vol./Nasdaq_100_Vol.",
          "Copper_Vol./Berkshire_Vol.",
          "Netflix_Vol./Meta_Vol.",
          "Natural_Gas_Vol./Gold_Vol."
         ],
         "xaxis": "x",
         "y": [
          0.9398805750132214,
          0.9398805750132214,
          0.657179906840991,
          0.657179906840991,
          0.6433740494738756,
          0.6433740494738756,
          0.62188014734851,
          0.6091521693116327,
          0.6077493149975965,
          0.5045353085080239,
          0.5045353085080239,
          0.4456509740921093,
          0.43025223187805783,
          0.4273947677717567,
          0.41521170468415586,
          0.36275387841829115,
          0.20318659570464737,
          0.18903536395378961
         ],
         "yaxis": "y"
        }
       ],
       "layout": {
        "barmode": "relative",
        "legend": {
         "tracegroupgap": 0
        },
        "margin": {
         "t": 60
        },
        "template": {
         "data": {
          "bar": [
           {
            "error_x": {
             "color": "#2a3f5f"
            },
            "error_y": {
             "color": "#2a3f5f"
            },
            "marker": {
             "line": {
              "color": "#E5ECF6",
              "width": 0.5
             },
             "pattern": {
              "fillmode": "overlay",
              "size": 10,
              "solidity": 0.2
             }
            },
            "type": "bar"
           }
          ],
          "barpolar": [
           {
            "marker": {
             "line": {
              "color": "#E5ECF6",
              "width": 0.5
             },
             "pattern": {
              "fillmode": "overlay",
              "size": 10,
              "solidity": 0.2
             }
            },
            "type": "barpolar"
           }
          ],
          "carpet": [
           {
            "aaxis": {
             "endlinecolor": "#2a3f5f",
             "gridcolor": "white",
             "linecolor": "white",
             "minorgridcolor": "white",
             "startlinecolor": "#2a3f5f"
            },
            "baxis": {
             "endlinecolor": "#2a3f5f",
             "gridcolor": "white",
             "linecolor": "white",
             "minorgridcolor": "white",
             "startlinecolor": "#2a3f5f"
            },
            "type": "carpet"
           }
          ],
          "choropleth": [
           {
            "colorbar": {
             "outlinewidth": 0,
             "ticks": ""
            },
            "type": "choropleth"
           }
          ],
          "contour": [
           {
            "colorbar": {
             "outlinewidth": 0,
             "ticks": ""
            },
            "colorscale": [
             [
              0,
              "#0d0887"
             ],
             [
              0.1111111111111111,
              "#46039f"
             ],
             [
              0.2222222222222222,
              "#7201a8"
             ],
             [
              0.3333333333333333,
              "#9c179e"
             ],
             [
              0.4444444444444444,
              "#bd3786"
             ],
             [
              0.5555555555555556,
              "#d8576b"
             ],
             [
              0.6666666666666666,
              "#ed7953"
             ],
             [
              0.7777777777777778,
              "#fb9f3a"
             ],
             [
              0.8888888888888888,
              "#fdca26"
             ],
             [
              1,
              "#f0f921"
             ]
            ],
            "type": "contour"
           }
          ],
          "contourcarpet": [
           {
            "colorbar": {
             "outlinewidth": 0,
             "ticks": ""
            },
            "type": "contourcarpet"
           }
          ],
          "heatmap": [
           {
            "colorbar": {
             "outlinewidth": 0,
             "ticks": ""
            },
            "colorscale": [
             [
              0,
              "#0d0887"
             ],
             [
              0.1111111111111111,
              "#46039f"
             ],
             [
              0.2222222222222222,
              "#7201a8"
             ],
             [
              0.3333333333333333,
              "#9c179e"
             ],
             [
              0.4444444444444444,
              "#bd3786"
             ],
             [
              0.5555555555555556,
              "#d8576b"
             ],
             [
              0.6666666666666666,
              "#ed7953"
             ],
             [
              0.7777777777777778,
              "#fb9f3a"
             ],
             [
              0.8888888888888888,
              "#fdca26"
             ],
             [
              1,
              "#f0f921"
             ]
            ],
            "type": "heatmap"
           }
          ],
          "heatmapgl": [
           {
            "colorbar": {
             "outlinewidth": 0,
             "ticks": ""
            },
            "colorscale": [
             [
              0,
              "#0d0887"
             ],
             [
              0.1111111111111111,
              "#46039f"
             ],
             [
              0.2222222222222222,
              "#7201a8"
             ],
             [
              0.3333333333333333,
              "#9c179e"
             ],
             [
              0.4444444444444444,
              "#bd3786"
             ],
             [
              0.5555555555555556,
              "#d8576b"
             ],
             [
              0.6666666666666666,
              "#ed7953"
             ],
             [
              0.7777777777777778,
              "#fb9f3a"
             ],
             [
              0.8888888888888888,
              "#fdca26"
             ],
             [
              1,
              "#f0f921"
             ]
            ],
            "type": "heatmapgl"
           }
          ],
          "histogram": [
           {
            "marker": {
             "pattern": {
              "fillmode": "overlay",
              "size": 10,
              "solidity": 0.2
             }
            },
            "type": "histogram"
           }
          ],
          "histogram2d": [
           {
            "colorbar": {
             "outlinewidth": 0,
             "ticks": ""
            },
            "colorscale": [
             [
              0,
              "#0d0887"
             ],
             [
              0.1111111111111111,
              "#46039f"
             ],
             [
              0.2222222222222222,
              "#7201a8"
             ],
             [
              0.3333333333333333,
              "#9c179e"
             ],
             [
              0.4444444444444444,
              "#bd3786"
             ],
             [
              0.5555555555555556,
              "#d8576b"
             ],
             [
              0.6666666666666666,
              "#ed7953"
             ],
             [
              0.7777777777777778,
              "#fb9f3a"
             ],
             [
              0.8888888888888888,
              "#fdca26"
             ],
             [
              1,
              "#f0f921"
             ]
            ],
            "type": "histogram2d"
           }
          ],
          "histogram2dcontour": [
           {
            "colorbar": {
             "outlinewidth": 0,
             "ticks": ""
            },
            "colorscale": [
             [
              0,
              "#0d0887"
             ],
             [
              0.1111111111111111,
              "#46039f"
             ],
             [
              0.2222222222222222,
              "#7201a8"
             ],
             [
              0.3333333333333333,
              "#9c179e"
             ],
             [
              0.4444444444444444,
              "#bd3786"
             ],
             [
              0.5555555555555556,
              "#d8576b"
             ],
             [
              0.6666666666666666,
              "#ed7953"
             ],
             [
              0.7777777777777778,
              "#fb9f3a"
             ],
             [
              0.8888888888888888,
              "#fdca26"
             ],
             [
              1,
              "#f0f921"
             ]
            ],
            "type": "histogram2dcontour"
           }
          ],
          "mesh3d": [
           {
            "colorbar": {
             "outlinewidth": 0,
             "ticks": ""
            },
            "type": "mesh3d"
           }
          ],
          "parcoords": [
           {
            "line": {
             "colorbar": {
              "outlinewidth": 0,
              "ticks": ""
             }
            },
            "type": "parcoords"
           }
          ],
          "pie": [
           {
            "automargin": true,
            "type": "pie"
           }
          ],
          "scatter": [
           {
            "fillpattern": {
             "fillmode": "overlay",
             "size": 10,
             "solidity": 0.2
            },
            "type": "scatter"
           }
          ],
          "scatter3d": [
           {
            "line": {
             "colorbar": {
              "outlinewidth": 0,
              "ticks": ""
             }
            },
            "marker": {
             "colorbar": {
              "outlinewidth": 0,
              "ticks": ""
             }
            },
            "type": "scatter3d"
           }
          ],
          "scattercarpet": [
           {
            "marker": {
             "colorbar": {
              "outlinewidth": 0,
              "ticks": ""
             }
            },
            "type": "scattercarpet"
           }
          ],
          "scattergeo": [
           {
            "marker": {
             "colorbar": {
              "outlinewidth": 0,
              "ticks": ""
             }
            },
            "type": "scattergeo"
           }
          ],
          "scattergl": [
           {
            "marker": {
             "colorbar": {
              "outlinewidth": 0,
              "ticks": ""
             }
            },
            "type": "scattergl"
           }
          ],
          "scattermapbox": [
           {
            "marker": {
             "colorbar": {
              "outlinewidth": 0,
              "ticks": ""
             }
            },
            "type": "scattermapbox"
           }
          ],
          "scatterpolar": [
           {
            "marker": {
             "colorbar": {
              "outlinewidth": 0,
              "ticks": ""
             }
            },
            "type": "scatterpolar"
           }
          ],
          "scatterpolargl": [
           {
            "marker": {
             "colorbar": {
              "outlinewidth": 0,
              "ticks": ""
             }
            },
            "type": "scatterpolargl"
           }
          ],
          "scatterternary": [
           {
            "marker": {
             "colorbar": {
              "outlinewidth": 0,
              "ticks": ""
             }
            },
            "type": "scatterternary"
           }
          ],
          "surface": [
           {
            "colorbar": {
             "outlinewidth": 0,
             "ticks": ""
            },
            "colorscale": [
             [
              0,
              "#0d0887"
             ],
             [
              0.1111111111111111,
              "#46039f"
             ],
             [
              0.2222222222222222,
              "#7201a8"
             ],
             [
              0.3333333333333333,
              "#9c179e"
             ],
             [
              0.4444444444444444,
              "#bd3786"
             ],
             [
              0.5555555555555556,
              "#d8576b"
             ],
             [
              0.6666666666666666,
              "#ed7953"
             ],
             [
              0.7777777777777778,
              "#fb9f3a"
             ],
             [
              0.8888888888888888,
              "#fdca26"
             ],
             [
              1,
              "#f0f921"
             ]
            ],
            "type": "surface"
           }
          ],
          "table": [
           {
            "cells": {
             "fill": {
              "color": "#EBF0F8"
             },
             "line": {
              "color": "white"
             }
            },
            "header": {
             "fill": {
              "color": "#C8D4E3"
             },
             "line": {
              "color": "white"
             }
            },
            "type": "table"
           }
          ]
         },
         "layout": {
          "annotationdefaults": {
           "arrowcolor": "#2a3f5f",
           "arrowhead": 0,
           "arrowwidth": 1
          },
          "autotypenumbers": "strict",
          "coloraxis": {
           "colorbar": {
            "outlinewidth": 0,
            "ticks": ""
           }
          },
          "colorscale": {
           "diverging": [
            [
             0,
             "#8e0152"
            ],
            [
             0.1,
             "#c51b7d"
            ],
            [
             0.2,
             "#de77ae"
            ],
            [
             0.3,
             "#f1b6da"
            ],
            [
             0.4,
             "#fde0ef"
            ],
            [
             0.5,
             "#f7f7f7"
            ],
            [
             0.6,
             "#e6f5d0"
            ],
            [
             0.7,
             "#b8e186"
            ],
            [
             0.8,
             "#7fbc41"
            ],
            [
             0.9,
             "#4d9221"
            ],
            [
             1,
             "#276419"
            ]
           ],
           "sequential": [
            [
             0,
             "#0d0887"
            ],
            [
             0.1111111111111111,
             "#46039f"
            ],
            [
             0.2222222222222222,
             "#7201a8"
            ],
            [
             0.3333333333333333,
             "#9c179e"
            ],
            [
             0.4444444444444444,
             "#bd3786"
            ],
            [
             0.5555555555555556,
             "#d8576b"
            ],
            [
             0.6666666666666666,
             "#ed7953"
            ],
            [
             0.7777777777777778,
             "#fb9f3a"
            ],
            [
             0.8888888888888888,
             "#fdca26"
            ],
            [
             1,
             "#f0f921"
            ]
           ],
           "sequentialminus": [
            [
             0,
             "#0d0887"
            ],
            [
             0.1111111111111111,
             "#46039f"
            ],
            [
             0.2222222222222222,
             "#7201a8"
            ],
            [
             0.3333333333333333,
             "#9c179e"
            ],
            [
             0.4444444444444444,
             "#bd3786"
            ],
            [
             0.5555555555555556,
             "#d8576b"
            ],
            [
             0.6666666666666666,
             "#ed7953"
            ],
            [
             0.7777777777777778,
             "#fb9f3a"
            ],
            [
             0.8888888888888888,
             "#fdca26"
            ],
            [
             1,
             "#f0f921"
            ]
           ]
          },
          "colorway": [
           "#636efa",
           "#EF553B",
           "#00cc96",
           "#ab63fa",
           "#FFA15A",
           "#19d3f3",
           "#FF6692",
           "#B6E880",
           "#FF97FF",
           "#FECB52"
          ],
          "font": {
           "color": "#2a3f5f"
          },
          "geo": {
           "bgcolor": "white",
           "lakecolor": "white",
           "landcolor": "#E5ECF6",
           "showlakes": true,
           "showland": true,
           "subunitcolor": "white"
          },
          "hoverlabel": {
           "align": "left"
          },
          "hovermode": "closest",
          "mapbox": {
           "style": "light"
          },
          "paper_bgcolor": "white",
          "plot_bgcolor": "#E5ECF6",
          "polar": {
           "angularaxis": {
            "gridcolor": "white",
            "linecolor": "white",
            "ticks": ""
           },
           "bgcolor": "#E5ECF6",
           "radialaxis": {
            "gridcolor": "white",
            "linecolor": "white",
            "ticks": ""
           }
          },
          "scene": {
           "xaxis": {
            "backgroundcolor": "#E5ECF6",
            "gridcolor": "white",
            "gridwidth": 2,
            "linecolor": "white",
            "showbackground": true,
            "ticks": "",
            "zerolinecolor": "white"
           },
           "yaxis": {
            "backgroundcolor": "#E5ECF6",
            "gridcolor": "white",
            "gridwidth": 2,
            "linecolor": "white",
            "showbackground": true,
            "ticks": "",
            "zerolinecolor": "white"
           },
           "zaxis": {
            "backgroundcolor": "#E5ECF6",
            "gridcolor": "white",
            "gridwidth": 2,
            "linecolor": "white",
            "showbackground": true,
            "ticks": "",
            "zerolinecolor": "white"
           }
          },
          "shapedefaults": {
           "line": {
            "color": "#2a3f5f"
           }
          },
          "ternary": {
           "aaxis": {
            "gridcolor": "white",
            "linecolor": "white",
            "ticks": ""
           },
           "baxis": {
            "gridcolor": "white",
            "linecolor": "white",
            "ticks": ""
           },
           "bgcolor": "#E5ECF6",
           "caxis": {
            "gridcolor": "white",
            "linecolor": "white",
            "ticks": ""
           }
          },
          "title": {
           "x": 0.05
          },
          "xaxis": {
           "automargin": true,
           "gridcolor": "white",
           "linecolor": "white",
           "ticks": "",
           "title": {
            "standoff": 15
           },
           "zerolinecolor": "white",
           "zerolinewidth": 2
          },
          "yaxis": {
           "automargin": true,
           "gridcolor": "white",
           "linecolor": "white",
           "ticks": "",
           "title": {
            "standoff": 15
           },
           "zerolinecolor": "white",
           "zerolinewidth": 2
          }
         }
        },
        "xaxis": {
         "anchor": "y",
         "domain": [
          0,
          1
         ],
         "title": {
          "text": "Pair"
         }
        },
        "yaxis": {
         "anchor": "x",
         "domain": [
          0,
          1
         ],
         "title": {
          "text": "sum of Correlation"
         }
        }
       }
      }
     },
     "metadata": {},
     "output_type": "display_data"
    }
   ],
   "source": [
    "\n",
    "most_correlated_df = pd.DataFrame(data=most_correlated_volume.items(), columns=['Pair', 'Correlation']).sort_values(by='Correlation', ascending=False)\n",
    "\n",
    "fig = px.histogram(data_frame=most_correlated_df, x='Pair', y='Correlation')\n",
    "fig.show()"
   ]
  }
 ],
 "metadata": {
  "kernelspec": {
   "display_name": "env_ds",
   "language": "python",
   "name": "python3"
  },
  "language_info": {
   "codemirror_mode": {
    "name": "ipython",
    "version": 3
   },
   "file_extension": ".py",
   "mimetype": "text/x-python",
   "name": "python",
   "nbconvert_exporter": "python",
   "pygments_lexer": "ipython3",
   "version": "3.10.13"
  }
 },
 "nbformat": 4,
 "nbformat_minor": 2
}
